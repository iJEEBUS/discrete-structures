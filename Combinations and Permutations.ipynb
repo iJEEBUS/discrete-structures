{
 "cells": [
  {
   "cell_type": "markdown",
   "metadata": {},
   "source": [
    "<center><h1><em>Combinations and Permutations</em></h1></center>"
   ]
  },
  {
   "cell_type": "markdown",
   "metadata": {},
   "source": [
    "<center><h3>Ronald Rounsifer</h3></center>"
   ]
  },
  {
   "cell_type": "markdown",
   "metadata": {},
   "source": [
    "<center><h2><em>Factorials</em></h2>\n",
    "<h4>factorial(number)</h4>\n",
    "<p>This function will return a number that is the factorial of the number that is inputted by the user.</p></center>"
   ]
  },
  {
   "cell_type": "code",
   "execution_count": 42,
   "metadata": {
    "collapsed": true
   },
   "outputs": [],
   "source": [
    "def factorial(number):\n",
    "    total = 1\n",
    "    \n",
    "    if number == 0:\n",
    "        return 1\n",
    "    if number > 0:\n",
    "        while number > 0:\n",
    "            total = total * number\n",
    "            number -= 1\n",
    "    if number < 0:\n",
    "        while number < 0:\n",
    "            total *= number\n",
    "            number += 1\n",
    "        if total < 0:\n",
    "            return total\n",
    "        elif total > 0:\n",
    "            total *= -1\n",
    "            return total\n",
    "    return total"
   ]
  },
  {
   "cell_type": "code",
   "execution_count": 43,
   "metadata": {},
   "outputs": [
    {
     "data": {
      "text/plain": [
       "40320"
      ]
     },
     "execution_count": 43,
     "metadata": {},
     "output_type": "execute_result"
    }
   ],
   "source": [
    "factorial(8)"
   ]
  },
  {
   "cell_type": "markdown",
   "metadata": {},
   "source": [
    "<center><h2><em>Choosing</em></h2>\n",
    "<h4>choose(n, k)</h4>\n",
    "<p>This function will return the numerical value of n choose k given the two variables as arguments.</p></center>"
   ]
  },
  {
   "cell_type": "code",
   "execution_count": 44,
   "metadata": {
    "collapsed": true
   },
   "outputs": [],
   "source": [
    "def choose(n,k):\n",
    "    n = n\n",
    "    k = k\n",
    "    numerator = 1\n",
    "    denominator_k = 1\n",
    "    denominator_n_k = 1\n",
    "    denominator = 0\n",
    "    n_minus_k = n - k\n",
    "    \n",
    "    if n == 0 and k == 0 or k < 0:\n",
    "        return 0\n",
    "\n",
    "    if k > 0:\n",
    "        if n < 0:\n",
    "            n = -1 * n\n",
    "            raise ValueError('Please enter only positive numbers')\n",
    "       \n",
    "    # Find the numerator\n",
    "        while n > 0:\n",
    "            numerator *= n\n",
    "            n -= 1\n",
    "       \n",
    "    # Find the denominator\n",
    "        while n_minus_k > 0:\n",
    "            denominator_n_k *= n_minus_k\n",
    "            n_minus_k -= 1\n",
    "        \n",
    "        while k > 0:\n",
    "            denominator_k *= k\n",
    "            k -= 1\n",
    "    # Calculate denominator\n",
    "        denominator = denominator_k * denominator_n_k\n",
    "        \n",
    "    # Return answer\n",
    "        return numerator / denominator"
   ]
  },
  {
   "cell_type": "code",
   "execution_count": 45,
   "metadata": {},
   "outputs": [
    {
     "data": {
      "text/plain": [
       "126.0"
      ]
     },
     "execution_count": 45,
     "metadata": {},
     "output_type": "execute_result"
    }
   ],
   "source": [
    "choose(9,5)"
   ]
  },
  {
   "cell_type": "markdown",
   "metadata": {},
   "source": [
    "<center><h2><em>Permutations</em></h2>\n",
    "<h4>perm(n, k)</h4>\n",
    "<p>This function will return the numerical value of the permutation of the two inputted variable n and k.</p></center>"
   ]
  },
  {
   "cell_type": "code",
   "execution_count": 46,
   "metadata": {
    "collapsed": true
   },
   "outputs": [],
   "source": [
    "def perm(n,k):\n",
    "    numerator = 1\n",
    "    denominator_k = 1\n",
    "    denominator_n_k = 1\n",
    "    denominator = 0\n",
    "    n_minus_k = n - k\n",
    "    new_k = 1\n",
    "    \n",
    "    if n == 0 and k == 0 or k < 0:\n",
    "        return 0\n",
    "    elif n < 0:\n",
    "        raise ValueError('Please enter only positive numbers')\n",
    "    else:\n",
    "        # Find the numerator\n",
    "        while n > 0:\n",
    "            numerator *= n\n",
    "            n -= 1\n",
    "        # Find the denominator\n",
    "        while n_minus_k > 0:\n",
    "            denominator_n_k *= n_minus_k\n",
    "            n_minus_k -= 1\n",
    "        while k > 0:\n",
    "            denominator_k *= k\n",
    "            k -= 1\n",
    "        denominator = denominator_k * denominator_n_k\n",
    "        return (numerator / denominator)*denominator_k"
   ]
  },
  {
   "cell_type": "code",
   "execution_count": 47,
   "metadata": {},
   "outputs": [
    {
     "data": {
      "text/plain": [
       "0"
      ]
     },
     "execution_count": 47,
     "metadata": {},
     "output_type": "execute_result"
    }
   ],
   "source": [
    "perm(5,-3)"
   ]
  },
  {
   "cell_type": "markdown",
   "metadata": {},
   "source": [
    "<center><h2><em>Two Point Lattice Paths</em></h2>\n",
    "<h4>lat_two(dict)</h4>\n",
    "<p>This function will take a dictionary as an argument that will consist of two points. The outcome will be the number of lattice paths that are possible between the two points. The dictionary shall be written in the form <em>{a:b,c:d}</em>.</p></center>"
   ]
  },
  {
   "cell_type": "code",
   "execution_count": 48,
   "metadata": {
    "collapsed": true
   },
   "outputs": [],
   "source": [
    "def lat_two(dictionary):\n",
    "    a = list(dictionary.keys())[0] # x1\n",
    "    b = list(dictionary.values())[0] # y1\n",
    "    c = list(dictionary.keys())[1] # x2\n",
    "    d = list(dictionary.values())[1] # y2\n",
    "    n = c - a\n",
    "    k = d - b\n",
    "    num = n + k\n",
    "    denom = n\n",
    "    \n",
    "    return choose(num, denom)"
   ]
  },
  {
   "cell_type": "code",
   "execution_count": 49,
   "metadata": {},
   "outputs": [
    {
     "data": {
      "text/plain": [
       "56.0"
      ]
     },
     "execution_count": 49,
     "metadata": {},
     "output_type": "execute_result"
    }
   ],
   "source": [
    "lat_two({0 : 0, 5 : 3})"
   ]
  },
  {
   "cell_type": "markdown",
   "metadata": {
    "collapsed": true
   },
   "source": [
    "<center><h2><em>Three Point Lattice Paths</em></h2>\n",
    "<h4>lat_three(dict)</h4>\n",
    "<p>This function will take a dictionary as an argument that will consist of three points. The outcome will be the number of lattice paths that are possible between the three points. The dictionary shall be written in the form <em>{a:b,c:d,e:f}</em>.</p></center>"
   ]
  },
  {
   "cell_type": "code",
   "execution_count": 50,
   "metadata": {
    "collapsed": true
   },
   "outputs": [],
   "source": [
    "def lat_three(dictionary):\n",
    "    a = list(dictionary.keys())[0] # x1\n",
    "    b = list(dictionary.values())[0] # y1\n",
    "    c = list(dictionary.keys())[1] # x2\n",
    "    d = list(dictionary.values())[1] # y2\n",
    "    e = list(dictionary.keys())[2] # x3\n",
    "    f = list(dictionary.values())[2] # y3\n",
    "    n = c - a\n",
    "    k = d - b\n",
    "    num = n + k\n",
    "    denom = n\n",
    "    \n",
    "    # Use previously made 'Choose' function\n",
    "    to_first_point = choose(num, denom)\n",
    "    n = e - c\n",
    "    k = f - d\n",
    "    num = n + k\n",
    "    denom = n\n",
    "    \n",
    "    # Use previously made 'Choose' function\n",
    "    to_second_point = choose(num, denom)\n",
    "    \n",
    "    return to_first_point * to_second_point\n",
    "    "
   ]
  },
  {
   "cell_type": "code",
   "execution_count": 51,
   "metadata": {},
   "outputs": [
    {
     "data": {
      "text/plain": [
       "1.0"
      ]
     },
     "execution_count": 51,
     "metadata": {},
     "output_type": "execute_result"
    }
   ],
   "source": [
    "lat_three({2 : 5, 3 : 5, 5 : 5})"
   ]
  },
  {
   "cell_type": "markdown",
   "metadata": {},
   "source": [
    "<center><h2><em>List Permutation</em></h2>\n",
    "<h4>list_perm(list)</h4>\n",
    "<p>This function will take a list and then output a list of lists, where each list is a permutation of the original list.</p></center>"
   ]
  },
  {
   "cell_type": "code",
   "execution_count": 52,
   "metadata": {
    "collapsed": true
   },
   "outputs": [],
   "source": [
    "def list_perm(user_list):\n",
    "    if user_list: # if the list exists\n",
    "        answer , h = [],[]\n",
    "        for x in user_list: # iterate through list\n",
    "            if x not in h:\n",
    "                temp = user_list[:]\n",
    "                temp.remove(x) # remove item from temp list\n",
    "                for p in list_perm(temp):\n",
    "                    answer.append([x]+p) # append item to answer list\n",
    "            h.append(x)\n",
    "        return answer # return answer list\n",
    "    else:\n",
    "        return [[]]\n",
    "    "
   ]
  },
  {
   "cell_type": "code",
   "execution_count": 53,
   "metadata": {},
   "outputs": [
    {
     "data": {
      "text/plain": [
       "[[1, 2, 3], [1, 3, 2], [2, 1, 3], [2, 3, 1], [3, 1, 2], [3, 2, 1]]"
      ]
     },
     "execution_count": 53,
     "metadata": {},
     "output_type": "execute_result"
    }
   ],
   "source": [
    "list_perm([1, 2, 3])"
   ]
  }
 ],
 "metadata": {
  "kernelspec": {
   "display_name": "Python 3",
   "language": "python",
   "name": "python3"
  },
  "language_info": {
   "codemirror_mode": {
    "name": "ipython",
    "version": 3
   },
   "file_extension": ".py",
   "mimetype": "text/x-python",
   "name": "python",
   "nbconvert_exporter": "python",
   "pygments_lexer": "ipython3",
   "version": "3.6.1"
  }
 },
 "nbformat": 4,
 "nbformat_minor": 2
}
