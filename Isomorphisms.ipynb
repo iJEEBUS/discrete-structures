{
 "cells": [
  {
   "cell_type": "markdown",
   "metadata": {},
   "source": [
    "<h1>List permutation</h1>\n",
    "<p>Takes in one list and returns all of the permutaions of that list.</p>"
   ]
  },
  {
   "cell_type": "code",
   "execution_count": 118,
   "metadata": {},
   "outputs": [],
   "source": [
    "def list_perm(user_list):\n",
    "    if user_list: # if the list exists\n",
    "        user_list = list(user_list)# Make sure that the input is actually a list\n",
    "        answer , h = [],[]\n",
    "        for x in user_list: # iterate through list\n",
    "            if x not in h: # if the inputted list item is not in the new list\n",
    "                temp = user_list[:]\n",
    "                temp.remove(x) # remove item from temp list\n",
    "                for p in list_perm(temp):\n",
    "                    answer.append([x]+p) # append item to answer list\n",
    "            h.append(x)\n",
    "        return answer # return answer list\n",
    "    else:\n",
    "        return [[]]"
   ]
  },
  {
   "cell_type": "code",
   "execution_count": 119,
   "metadata": {},
   "outputs": [
    {
     "data": {
      "text/plain": [
       "[['A', 'B', 'C'],\n",
       " ['A', 'C', 'B'],\n",
       " ['B', 'A', 'C'],\n",
       " ['B', 'C', 'A'],\n",
       " ['C', 'A', 'B'],\n",
       " ['C', 'B', 'A']]"
      ]
     },
     "execution_count": 119,
     "metadata": {},
     "output_type": "execute_result"
    }
   ],
   "source": [
    "list_perm([\"A\",\"B\", \"C\"])\n"
   ]
  },
  {
   "cell_type": "markdown",
   "metadata": {},
   "source": [
    "<h1>Is The Same</h1>\n",
    "<center><p>Takes in two lists and checks to see whether the two are the same, no matter what the order of the items is.</p></center>\n"
   ]
  },
  {
   "cell_type": "code",
   "execution_count": 120,
   "metadata": {
    "collapsed": true
   },
   "outputs": [],
   "source": [
    "def is_same(list1, list2):\n",
    "    if list1 in list_perm(list2):\n",
    "        return True\n",
    "    return False"
   ]
  },
  {
   "cell_type": "code",
   "execution_count": 121,
   "metadata": {},
   "outputs": [
    {
     "data": {
      "text/plain": [
       "True"
      ]
     },
     "execution_count": 121,
     "metadata": {},
     "output_type": "execute_result"
    }
   ],
   "source": [
    "is_same([\"A\", \"B\", \"C\"],[\"A\", \"B\", \"C\"])"
   ]
  },
  {
   "cell_type": "markdown",
   "metadata": {
    "collapsed": true
   },
   "source": [
    "<h1>Switch</h1>\n",
    "<p>This function will take in a graph along with two vertices and then outputs the graph where the labels on vert1 and vert2 are switched.</p>"
   ]
  },
  {
   "cell_type": "code",
   "execution_count": 122,
   "metadata": {
    "collapsed": true
   },
   "outputs": [],
   "source": [
    "def switch(graph, vert1, vert2):\n",
    "    \n",
    "    temp_dict = {} # Temporary dictionary to hold data   \n",
    "    final_dict = {} # Final dictionary that will be returned\n",
    "    \n",
    "    # Loop through the keys in the inputted graph\n",
    "    for key in graph.copy():\n",
    "        \n",
    "        ## This takes care of the values in the dictionary\n",
    "        # Checks if either vertex is in the values \n",
    "        if vert1 in graph[key] or vert2 in graph[key]:\n",
    "            \n",
    "            loops = len(graph[key]) # How many items to iterate through\n",
    "            counter = 0 # Counter used for the while loop\n",
    "            \n",
    "            while counter < loops: # Loop through every item in the keys value\n",
    "                if graph[key][counter] == vert1: # If the value is equal to the first vertex\n",
    "                    graph[key][counter] = vert2 # Change the value to the second vertex\n",
    "                elif graph[key][counter] == vert2: # If the value is equal to the second vertex\n",
    "                    graph[key][counter] = vert1 # Change the value to the first vertex     \n",
    "                counter += 1 # Increment counter by one\n",
    "    \n",
    "    ## Changes the keys of the dictionary\n",
    "    for key in graph.copy(): # Loop through all of the keys in the dictionary\n",
    "        \n",
    "        if key == vert1: # If the key is equal to the first vertex input\n",
    "            new_key = vert2 # Make a new key that is to replace the original key    \n",
    "            temp_dict[key] = graph[key] # Put the entire key and value into the temporary dictionary       \n",
    "            final_dict[new_key] = temp_dict.pop(key) # Take the values from the temporary dictionary and place them under the new key\n",
    "        # Uses the same logic as above\n",
    "        elif key == vert2: # If the key is equal to the second vertex input\n",
    "            new_key = vert1\n",
    "            temp_dict[key] = graph[key]        \n",
    "            final_dict[new_key] = temp_dict.pop(key)\n",
    "        else:\n",
    "            final_dict[key] = graph[key] # Transfer the remainder of the orginal graph to the new dictionary\n",
    "        \n",
    "    # Return the final, switched dictionary\n",
    "    return final_dict\n",
    "        "
   ]
  },
  {
   "cell_type": "code",
   "execution_count": 123,
   "metadata": {},
   "outputs": [
    {
     "data": {
      "text/plain": [
       "{'A': ['C', 'D'], 'B': ['C', 'D'], 'C': ['B', 'A'], 'D': ['B', 'A']}"
      ]
     },
     "execution_count": 123,
     "metadata": {},
     "output_type": "execute_result"
    }
   ],
   "source": [
    "'''USE THIS FOR TESTING THE ABOVE FUNCTION'''\n",
    "\n",
    "dictionary = {\"A\" : [\"B\", \"C\"], \"B\" : [\"A\", \"D\"], \"C\" : [\"A\", \"D\"], \"D\" : [\"B\", \"C\"] }\n",
    "A = \"A\"\n",
    "C = \"C\"\n",
    "\n",
    "switch(dictionary, A, C)"
   ]
  },
  {
   "cell_type": "markdown",
   "metadata": {},
   "source": [
    "<h1>Isomorphic</h1>\n",
    "<p>Determines whether the two graphs that are inputted are isomorphic.</p>"
   ]
  },
  {
   "cell_type": "code",
   "execution_count": 124,
   "metadata": {
    "collapsed": true
   },
   "outputs": [],
   "source": [
    "def is_iso(graph1, graph2):\n",
    "    \n",
    "    ## Check the number of vertices, return false if different\n",
    "    \n",
    "    if len(graph1)!= len(graph2): # Compare number of vertices\n",
    "        return False\n",
    "    \n",
    "    ## Check the number of edges, return false if different\n",
    "    \n",
    "    g1_edges = 0 # Number of edges in graph 1\n",
    "    g2_edges = 0 # Number of edges in graph 2\n",
    "    \n",
    "    print graph2\n",
    "    for key in graph1: # Sum the amount of edges in graph 1\n",
    "        g1_edges += len(graph1[key])\n",
    "    \n",
    "    for key in graph2: # Sum the amount of edges in graph 2\n",
    "        print len(graph2[key])\n",
    "        g2_edges += len(graph2[key])\n",
    "    \n",
    "    if g1_edges != g2_edges: # Check edge counts\n",
    "        return False\n",
    "    \n",
    "    print g1_edges\n",
    "    print g2_edges\n",
    "    return True\n",
    "    "
   ]
  },
  {
   "cell_type": "markdown",
   "metadata": {},
   "source": [
    "<h4>Testing</h4>"
   ]
  },
  {
   "cell_type": "code",
   "execution_count": 147,
   "metadata": {},
   "outputs": [
    {
     "data": {
      "text/plain": [
       "False"
      ]
     },
     "execution_count": 147,
     "metadata": {},
     "output_type": "execute_result"
    }
   ],
   "source": [
    "graph1 = {\"A\" : [\"B\", \"C\"], \"B\" : [\"A\", \"D\"], \"C\" : [\"A\", \"D\"], \"D\" : [\"B\", \"C\"] }\n",
    "graph1 = {\"A\" : [\"B\", \"C\", \"D\"], \"B\" : [\"A\", \"D\", \"C\"], \"C\" : [\"A\", \"D\"], \"D\" : [\"B\", \"C\"] }\n",
    "graph3 = {1 : [\"C\", \"B\"], 2 : [\"D\", \"A\"], 3 : [\"A\", \"D\"], 4 : [\"B\", \"C\"], 5 : [\"B\", \"C\"] }\n",
    "\n",
    "is_iso(graph1, graph3)"
   ]
  },
  {
   "cell_type": "code",
   "execution_count": 148,
   "metadata": {
    "collapsed": true
   },
   "outputs": [],
   "source": [
    "#  *\n",
    "# /\\\n",
    "#*  *\n",
    "# How to tell if two graphs are isomorphic\n",
    "# Step One: Check if the two graphs have vertices that are of the same degrees\n",
    "# Step Two: "
   ]
  },
  {
   "cell_type": "code",
   "execution_count": 177,
   "metadata": {},
   "outputs": [],
   "source": [
    "def is_iso(graph1, graph2):\n",
    "    \n",
    "    if graph1 == graph2: # Handles same graph inputs\n",
    "        return True\n",
    "    \n",
    "    g1_degree_sequence = []\n",
    "    g2_degree_sequence = []\n",
    "    \n",
    "    for key in graph1: # Create the degree sequence for graph one\n",
    "        g1_degree_sequence.append(len(graph1[key]))\n",
    "    \n",
    "    for key in graph2: # Create the degree sequence for graph two\n",
    "        g2_degree_sequence.append(len(graph2[key]))\n",
    "    \n",
    "    # Sort the degree sequences\n",
    "    \n",
    "    return g1_degree_sequence\n",
    "    \n",
    "    "
   ]
  },
  {
   "cell_type": "code",
   "execution_count": 178,
   "metadata": {},
   "outputs": [
    {
     "data": {
      "text/plain": [
       "[3, 2, 3, 2]"
      ]
     },
     "execution_count": 178,
     "metadata": {},
     "output_type": "execute_result"
    }
   ],
   "source": [
    "is_iso(graph1, graph2)"
   ]
  },
  {
   "cell_type": "code",
   "execution_count": null,
   "metadata": {
    "collapsed": true
   },
   "outputs": [],
   "source": [
    "## Create two lists and see if the first is a permutation of the second \n",
    "    g1_degrees = [] # All of the degrees in graph one\n",
    "    g2_degrees = [] # All of the degrees in graph two\n",
    "    \n",
    "    for key in graph1: # Append each key from graph one to a new list\n",
    "        g1_degrees.append(graph1[key])\n",
    "    for key in graph2: # Append each key from graph one to a new list\n",
    "        g2_degrees.append(graph2[key])\n",
    "        \n",
    "    for key in graph1:\n",
    "        temp = []\n",
    "        \n",
    "        print temp\n",
    "        print graph1[key]\n",
    "        if graph1[key] not in list_perm(graph2):\n",
    "            return False\n",
    "\n",
    "    \n",
    "    \n",
    "    return True"
   ]
  },
  {
   "cell_type": "code",
   "execution_count": null,
   "metadata": {
    "collapsed": true
   },
   "outputs": [],
   "source": []
  },
  {
   "cell_type": "code",
   "execution_count": null,
   "metadata": {
    "collapsed": true
   },
   "outputs": [],
   "source": []
  },
  {
   "cell_type": "code",
   "execution_count": null,
   "metadata": {
    "collapsed": true
   },
   "outputs": [],
   "source": []
  },
  {
   "cell_type": "code",
   "execution_count": null,
   "metadata": {
    "collapsed": true
   },
   "outputs": [],
   "source": []
  },
  {
   "cell_type": "code",
   "execution_count": null,
   "metadata": {
    "collapsed": true
   },
   "outputs": [],
   "source": []
  },
  {
   "cell_type": "code",
   "execution_count": null,
   "metadata": {
    "collapsed": true
   },
   "outputs": [],
   "source": []
  },
  {
   "cell_type": "code",
   "execution_count": null,
   "metadata": {
    "collapsed": true
   },
   "outputs": [],
   "source": []
  },
  {
   "cell_type": "code",
   "execution_count": null,
   "metadata": {
    "collapsed": true
   },
   "outputs": [],
   "source": []
  },
  {
   "cell_type": "code",
   "execution_count": null,
   "metadata": {
    "collapsed": true
   },
   "outputs": [],
   "source": []
  },
  {
   "cell_type": "code",
   "execution_count": null,
   "metadata": {
    "collapsed": true
   },
   "outputs": [],
   "source": []
  }
 ],
 "metadata": {
  "kernelspec": {
   "display_name": "Python 2",
   "language": "python",
   "name": "python2"
  },
  "language_info": {
   "codemirror_mode": {
    "name": "ipython",
    "version": 2
   },
   "file_extension": ".py",
   "mimetype": "text/x-python",
   "name": "python",
   "nbconvert_exporter": "python",
   "pygments_lexer": "ipython2",
   "version": "2.7.13"
  }
 },
 "nbformat": 4,
 "nbformat_minor": 2
}
