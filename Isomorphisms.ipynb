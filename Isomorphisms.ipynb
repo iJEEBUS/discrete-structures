{
 "cells": [
  {
   "cell_type": "markdown",
   "metadata": {},
   "source": [
    "<h6>Ronald Rounsifer<h6>\n",
    "<hr>"
   ]
  },
  {
   "cell_type": "markdown",
   "metadata": {},
   "source": [
    "<center>\n",
    "    <h1>Isomorphisms</h1>\n",
    "    <p>For this project you are to write functions that tests whether two given graphs are isomorphic. There are additional functions that will be useful to use when writing your final code.</p>\n",
    "    <p>You are <b>NOT ALLOWED TO IMPORT</b> any external libraries on this problem.</p>\n",
    "</center>"
   ]
  },
  {
   "cell_type": "markdown",
   "metadata": {},
   "source": [
    "<hr>"
   ]
  },
  {
   "cell_type": "markdown",
   "metadata": {},
   "source": [
    "<h1>List permutation</h1>\n",
    "<ul>\n",
    "    <li>Input: a list</li>\n",
    "    <li>Output: all of the permuations in the form of lists</li>\n",
    "    <br>\n",
    "    <li><em>Assume the list does not contain duplicates</em></li>\n",
    "    <li><em>Order of permutations does not matter</em></li>\n",
    "</ul>"
   ]
  },
  {
   "cell_type": "code",
   "execution_count": 244,
   "metadata": {
    "collapsed": true
   },
   "outputs": [],
   "source": [
    "def list_perm(user_list):\n",
    "    if user_list: # if the list exists\n",
    "        user_list = list(user_list)# Make sure that the input is actually a list\n",
    "        answer , h = [],[]\n",
    "        for x in user_list: # iterate through list\n",
    "            if x not in h: # if the inputted list item is not in the new list\n",
    "                temp = user_list[:]\n",
    "                temp.remove(x) # remove item from temp list\n",
    "                for p in list_perm(temp):\n",
    "                    answer.append([x]+p) # append item to answer list\n",
    "            h.append(x)\n",
    "        return answer # return answer list\n",
    "    else:\n",
    "        return [[]]"
   ]
  },
  {
   "cell_type": "markdown",
   "metadata": {},
   "source": [
    "<center><h4>List Permutation Testing</h4></center>"
   ]
  },
  {
   "cell_type": "code",
   "execution_count": 245,
   "metadata": {},
   "outputs": [
    {
     "data": {
      "text/plain": [
       "[['A', 'B', 'C'],\n",
       " ['A', 'C', 'B'],\n",
       " ['B', 'A', 'C'],\n",
       " ['B', 'C', 'A'],\n",
       " ['C', 'A', 'B'],\n",
       " ['C', 'B', 'A']]"
      ]
     },
     "execution_count": 245,
     "metadata": {},
     "output_type": "execute_result"
    }
   ],
   "source": [
    "list_perm([\"A\",\"B\", \"C\"])"
   ]
  },
  {
   "cell_type": "markdown",
   "metadata": {},
   "source": [
    "<hr>"
   ]
  },
  {
   "cell_type": "markdown",
   "metadata": {},
   "source": [
    "<h1>Are They the Same</h1>\n",
    "<ul>\n",
    "    <li>Input: two lists, return whether or not they are the same</li>\n",
    "    <li>Output: True if they are the same, False if they are not</li>\n",
    "    <br>\n",
    "    <li><em>Since they are sets, the order does not matter</em></li>\n",
    "<ul>\n"
   ]
  },
  {
   "cell_type": "code",
   "execution_count": 246,
   "metadata": {
    "collapsed": true
   },
   "outputs": [],
   "source": [
    "def is_same(list1, list2):\n",
    "    if list1 in list_perm(list2):\n",
    "        return True\n",
    "    return False"
   ]
  },
  {
   "cell_type": "markdown",
   "metadata": {},
   "source": [
    "<center><h4>Are They the Same Testing</h4></center>"
   ]
  },
  {
   "cell_type": "code",
   "execution_count": 247,
   "metadata": {},
   "outputs": [
    {
     "data": {
      "text/plain": [
       "True"
      ]
     },
     "execution_count": 247,
     "metadata": {},
     "output_type": "execute_result"
    }
   ],
   "source": [
    "is_same([\"A\", \"B\", \"C\"],[\"A\", \"B\", \"C\"])"
   ]
  },
  {
   "cell_type": "markdown",
   "metadata": {},
   "source": [
    "<hr>"
   ]
  },
  {
   "cell_type": "markdown",
   "metadata": {
    "collapsed": true
   },
   "source": [
    "<h1>Switch</h1>\n",
    "<ul>\n",
    "    <li>Input: a graph and two vertices</li>\n",
    "    <li>Output: the graph with the specified vertices that are switched</li>\n",
    "<ul>\n",
    "<p>This function will take in a graph along with two vertices and then outputs the graph where the labels on vert1 and vert2 are switched.</p>"
   ]
  },
  {
   "cell_type": "code",
   "execution_count": 248,
   "metadata": {
    "collapsed": true
   },
   "outputs": [],
   "source": [
    "def switch(graph, vert1, vert2):\n",
    "    \n",
    "    temp_dict = {} # Temporary dictionary to hold data   \n",
    "    final_dict = {} # Final dictionary that will be returned\n",
    "    \n",
    "    # Loop through the keys in the inputted graph\n",
    "    for key in graph.copy():\n",
    "        \n",
    "        ## This takes care of the values in the dictionary\n",
    "        # Checks if either vertex is in the values \n",
    "        if vert1 in graph[key] or vert2 in graph[key]:\n",
    "            \n",
    "            loops = len(graph[key]) # How many items to iterate through\n",
    "            counter = 0 # Counter used for the while loop\n",
    "            \n",
    "            while counter < loops: # Loop through every item in the keys value\n",
    "                if graph[key][counter] == vert1: # If the value is equal to the first vertex\n",
    "                    graph[key][counter] = vert2 # Change the value to the second vertex\n",
    "                elif graph[key][counter] == vert2: # If the value is equal to the second vertex\n",
    "                    graph[key][counter] = vert1 # Change the value to the first vertex     \n",
    "                counter += 1 # Increment counter by one\n",
    "    \n",
    "    ## Changes the keys of the dictionary\n",
    "    for key in graph.copy(): # Loop through all of the keys in the dictionary\n",
    "        \n",
    "        if key == vert1: # If the key is equal to the first vertex input\n",
    "            new_key = vert2 # Make a new key that is to replace the original key    \n",
    "            temp_dict[key] = graph[key] # Put the entire key and value into the temporary dictionary       \n",
    "            final_dict[new_key] = temp_dict.pop(key) # Take the values from the temporary dictionary and place them under the new key\n",
    "        # Uses the same logic as above\n",
    "        elif key == vert2: # If the key is equal to the second vertex input\n",
    "            new_key = vert1\n",
    "            temp_dict[key] = graph[key]        \n",
    "            final_dict[new_key] = temp_dict.pop(key)\n",
    "        else:\n",
    "            final_dict[key] = graph[key] # Transfer the remainder of the orginal graph to the new dictionary\n",
    "        \n",
    "    # Return the final, switched dictionary\n",
    "    return final_dict\n",
    "        "
   ]
  },
  {
   "cell_type": "markdown",
   "metadata": {},
   "source": [
    "<center><h4>Switch Testing</h4></center>"
   ]
  },
  {
   "cell_type": "code",
   "execution_count": 249,
   "metadata": {},
   "outputs": [
    {
     "data": {
      "text/plain": [
       "{'A': ['C', 'D'], 'B': ['C', 'D'], 'C': ['B', 'A'], 'D': ['B', 'A']}"
      ]
     },
     "execution_count": 249,
     "metadata": {},
     "output_type": "execute_result"
    }
   ],
   "source": [
    "dictionary = {\"A\" : [\"B\", \"C\"], \"B\" : [\"A\", \"D\"], \"C\" : [\"A\", \"D\"], \"D\" : [\"B\", \"C\"] }\n",
    "A = \"A\"\n",
    "C = \"C\"\n",
    "\n",
    "switch(dictionary, A, C)"
   ]
  },
  {
   "cell_type": "markdown",
   "metadata": {},
   "source": [
    "<hr>"
   ]
  },
  {
   "cell_type": "markdown",
   "metadata": {},
   "source": [
    "<h1>Isomorphic <b>-- IN PROGRESS</b></h1> \n",
    "<ul>\n",
    "    <li>Input: two graphs</li>\n",
    "    <li>Output: True if the graphs are isomorphic, False if not</li>\n",
    "</ul>"
   ]
  },
  {
   "cell_type": "code",
   "execution_count": 283,
   "metadata": {
    "collapsed": true
   },
   "outputs": [],
   "source": [
    "def is_iso(graph1, graph2):\n",
    "    \n",
    "    ## Check the number of vertices, return false if different\n",
    "    \n",
    "    if len(graph1)!= len(graph2): # Compare number of vertices\n",
    "        return False\n",
    "    \n",
    "    ## Check the degree sequences, if one is not in the other then return false\n",
    "    g1_degree_sequence = []\n",
    "    g2_degree_sequence = []\n",
    "    \n",
    "    for key in graph1:\n",
    "        g1_degree_sequence.append(len(graph1[key]))\n",
    "    for key in graph2:\n",
    "        g2_degree_sequence.append(len(graph2[key]))\n",
    "\n",
    "        \n",
    "    temp = [] # Temp list to hold permutations\n",
    "    \n",
    "    for permutation in list_perm(g1_degree_sequence): # Iterate through all the permutations\n",
    "        temp.append(permutation) # Add them to a temp array\n",
    "    g1_degree_sequence[:] = [] # Clear initial list\n",
    "    g1_degree_sequence = temp[:] # Assign entire temp list to initial list\n",
    "    temp[:] = [] # Clear the temp list\n",
    "    \n",
    "    for permutation in list_perm(g2_degree_sequence): # Iterate through all the permutations\n",
    "        temp.append(permutation) # Add them to a temp array\n",
    "    g2_degree_sequence[:] = [] # Clear initial list\n",
    "    g2_degree_sequence = temp[:] # Assign entire temp list to initial list\n",
    "    temp[:] = [] # Clear the temp list\n",
    "    \n",
    "    for d_sequence in g1_degree_sequence: # For each permutation of graph one's degree sequence\n",
    "        if d_sequence in g2_degree_sequence: # If the sequence is in the other graph, return true\n",
    "            print d_sequence\n",
    "            return True\n",
    "        \n",
    "    return False\n",
    "    "
   ]
  },
  {
   "cell_type": "markdown",
   "metadata": {},
   "source": [
    "<center><h4>Isomorphic Testing</h4></center>"
   ]
  },
  {
   "cell_type": "code",
   "execution_count": 284,
   "metadata": {},
   "outputs": [
    {
     "name": "stdout",
     "output_type": "stream",
     "text": [
      "[2, 3, 2, 3]\n"
     ]
    },
    {
     "data": {
      "text/plain": [
       "True"
      ]
     },
     "execution_count": 284,
     "metadata": {},
     "output_type": "execute_result"
    }
   ],
   "source": [
    "graph1 = {\"A\" : [\"B\", \"C\"], \"B\" : [\"A\", \"D\"], \"C\" : [\"A\", \"D\", \"B\"], \"D\" : [\"B\", \"C\", \"d\"] }\n",
    "graph2 = {\"A\" : [\"B\", \"C\", \"D\"], \"B\" : [\"A\", \"D\", \"C\"], \"C\" : [\"A\", \"D\"], \"D\" : [\"B\", \"C\"] }\n",
    "graph3 = {1 : [\"C\", \"B\"], 2 : [\"D\", \"A\"], 3 : [\"A\", \"D\"], 4 : [\"B\", \"C\"], 5 : [\"B\", \"C\"] }\n",
    "\n",
    "is_iso(graph1, graph2)"
   ]
  },
  {
   "cell_type": "markdown",
   "metadata": {},
   "source": [
    "<hr>"
   ]
  }
 ],
 "metadata": {
  "kernelspec": {
   "display_name": "Python 2",
   "language": "python",
   "name": "python2"
  },
  "language_info": {
   "codemirror_mode": {
    "name": "ipython",
    "version": 2
   },
   "file_extension": ".py",
   "mimetype": "text/x-python",
   "name": "python",
   "nbconvert_exporter": "python",
   "pygments_lexer": "ipython2",
   "version": "2.7.13"
  }
 },
 "nbformat": 4,
 "nbformat_minor": 2
}
