{
 "cells": [
  {
   "cell_type": "markdown",
   "metadata": {},
   "source": [
    "<h6>Ronald Rounsifer</h6>\n",
    "<hr>"
   ]
  },
  {
   "cell_type": "markdown",
   "metadata": {},
   "source": [
    "<center>\n",
    "<h1>Trees</h1>\n",
    "<br>\n",
    "<p>For this project you will write functions that traverse rooted trees using Depth and Breadth First Search. In addition, you will find minimum spanning trees using both Krukal's and Prim's algorithms.</p>\n",
    "<p>You are <b>NOT ALLOWED TO IMPORT</b> any external libraries on this problem.</p>\n",
    "</center>"
   ]
  },
  {
   "cell_type": "markdown",
   "metadata": {},
   "source": [
    "<hr>"
   ]
  },
  {
   "cell_type": "markdown",
   "metadata": {},
   "source": [
    "<h3>Depth First Search</h3>\n",
    "<ul>\n",
    "    <li>This will take in a rooted tree and return the list of vertices visited using DFS.</li>\n",
    "    <li>\"A\" will always be the root.</li>\n",
    "</ul>"
   ]
  },
  {
   "cell_type": "code",
   "execution_count": 237,
   "metadata": {},
   "outputs": [
    {
     "data": {
      "text/plain": [
       "['A', 'B', 'D', 'C']"
      ]
     },
     "execution_count": 237,
     "metadata": {},
     "output_type": "execute_result"
    }
   ],
   "source": [
    "def DFS(tree):\n",
    "\n",
    "    root = \"A\"\n",
    "    visited, stack = [] , [root]\n",
    "\n",
    "    while stack: # While the stack contains items do this\n",
    "        vertex = stack.pop()\n",
    "        if vertex not in visited:\n",
    "            visited.append(vertex)\n",
    "            stack.extend(tree[vertex][::-1])\n",
    "    return visited\n",
    "    \n",
    "    \n",
    "    \n",
    "#############\n",
    "## TESTING ##\n",
    "#############\n",
    "test_tree = {\n",
    "                \"A\" : [\"B\",\"C\"], \n",
    "                \"B\" : [\"D\"], \n",
    "                \"C\" : [], \n",
    "                \"D\" : []\n",
    "            }\n",
    "\n",
    "\n",
    "DFS(test_tree)"
   ]
  },
  {
   "cell_type": "markdown",
   "metadata": {},
   "source": [
    "<hr>"
   ]
  },
  {
   "cell_type": "markdown",
   "metadata": {},
   "source": [
    "<h3>Breadth First Search</h3>\n",
    "<ul>\n",
    "    <li>This will take in a rooted tree and return the list of vertices visited using BFS.</li>\n",
    "    <li>\"A\" will always be the root.</li>\n",
    "</ul>"
   ]
  },
  {
   "cell_type": "code",
   "execution_count": 239,
   "metadata": {},
   "outputs": [
    {
     "name": "stdout",
     "output_type": "stream",
     "text": [
      "['A', 'B', 'C', 'D']\n"
     ]
    }
   ],
   "source": [
    "def BFS(tree):\n",
    "\n",
    "    root = \"A\"\n",
    "    visited, stack, neighbors = [] , [root], []\n",
    "    \n",
    "    # Loop while the stack is populated\n",
    "    while stack:\n",
    "        vertex = stack.pop() # Take the vertex out of the stack\n",
    "        if vertex not in visited: # Check if the vertex has been visited\n",
    "            visited.append(vertex) # Add vertex to visited list\n",
    "            neighbors.extend(tree[vertex][:])\n",
    "            if len(stack) == 0:\n",
    "                stack.extend(neighbors[::-1])\n",
    "    return visited\n",
    "        \n",
    "    \n",
    "    \n",
    "#############\n",
    "## TESTING ##\n",
    "#############\n",
    "test_one = {\n",
    "                \"A\" : [\"B\",\"C\"], \n",
    "                \"B\" : [\"D\"], \n",
    "                \"C\" : [\"E\",\"F\"], \n",
    "                \"D\" : [],\n",
    "                \"E\" : [\"G\"],\n",
    "                \"F\" : [\"H\"],\n",
    "                \"G\" : [],\n",
    "                \"H\" : [\"I\"],\n",
    "                \"I\" : []\n",
    "            }\n",
    "\n",
    "test_two = {\n",
    "                \"A\" : [\"B\",\"C\"], \n",
    "                \"B\" : [\"D\"], \n",
    "                \"C\" : [], \n",
    "                \"D\" : []\n",
    "            }\n",
    "\n",
    "test_three = {\n",
    "                \"A\" : [\"B\",\"C\", \"D\"], \n",
    "                \"B\" : [], \n",
    "                \"C\" : [], \n",
    "                \"D\" : []\n",
    "            }\n",
    "\n",
    "print BFS(test_two)"
   ]
  },
  {
   "cell_type": "markdown",
   "metadata": {},
   "source": [
    "<hr>"
   ]
  },
  {
   "cell_type": "markdown",
   "metadata": {},
   "source": [
    "<h3>Get the Edges</h3>\n",
    "<ul>\n",
    "    <li>This function takes in a weighted graph and returns the list of all the edges of the graph in non-decreasing order.</li>\n",
    "    <li>The order of endpoints does not matter.</li>\n",
    "</ul>"
   ]
  },
  {
   "cell_type": "code",
   "execution_count": 241,
   "metadata": {},
   "outputs": [
    {
     "data": {
      "text/plain": [
       "[['A', 'D'], ['C', 'B'], ['A', 'B'], ['C', 'D']]"
      ]
     },
     "execution_count": 241,
     "metadata": {},
     "output_type": "execute_result"
    }
   ],
   "source": [
    "# Helper method\n",
    "# Returns a list of permu\n",
    "def list_perm(user_list):\n",
    "    if user_list: \n",
    "        user_list = list(user_list) # Make sure that the input is actually a list\n",
    "        answer , h = [],[]\n",
    "        for x in user_list: # iterate through list\n",
    "            if x not in h: # if the inputted list item is not in the new list\n",
    "                temp = user_list[:]\n",
    "                temp.remove(x) # remove item from temp list\n",
    "                for p in list_perm(temp):\n",
    "                    answer.append([x]+p) # append item to answer list\n",
    "            h.append(x)\n",
    "        return answer # return answer list\n",
    "    else:\n",
    "        return [[]]\n",
    "\n",
    "def edge_get(graph):\n",
    "    \n",
    "    weights = [] # all of the weights in the graph\n",
    "    smallest_weight = 0 \n",
    "    \n",
    "    edges = [] # Holds edges that have minimum edge weight\n",
    "    final_edges = [] \n",
    "    \n",
    "    # Iterate through the graph and create a list of the weights\n",
    "    for vertex in graph:\n",
    "        for weight in graph[vertex]:\n",
    "            if weight[1] not in weights:\n",
    "                weights.append(weight[1])\n",
    "    \n",
    "    weights = sorted(weights)  # Sort the weights\n",
    "    \n",
    "    # Execute until all weights are accounted for\n",
    "    while weights:\n",
    "        edges = []\n",
    "        for vertex in graph:\n",
    "            smallest_weight = weights[0]\n",
    "            \n",
    "            # Checks the weight to make sure it is the current  \n",
    "            # minimum and checks that any permutation of that \n",
    "            # edge is in the list already.\n",
    "            for weight in graph[vertex]:\n",
    "                if weight[1] == smallest_weight:\n",
    "                    if [vertex, weight[0]] not in edges:\n",
    "                        if [weight[0], vertex] not in edges:\n",
    "                            edges.append([vertex, weight[0]])\n",
    "                            \n",
    "        # Remove the first weight from the list after use\n",
    "        weights = weights[1:]\n",
    "        \n",
    "        # Add edges to final output list\n",
    "        for edge in edges:\n",
    "            final_edges.append(edge)\n",
    "                        \n",
    "    return final_edges\n",
    "\n",
    "\n",
    "\n",
    "#############\n",
    "## TESTING ##\n",
    "#############\n",
    "graph1 = {\n",
    "    \"A\" : [[\"B\",10], [\"D\",5]], \n",
    "    \"B\" : [[\"A\",10], [\"C\",5]],\n",
    "    \"C\" : [[\"B\",5], [\"D\",15]],\n",
    "    \"D\" : [[\"C\", 15], [\"A\",5]]\n",
    "}\n",
    "edge_get(graph1)"
   ]
  },
  {
   "cell_type": "markdown",
   "metadata": {},
   "source": [
    "<hr>"
   ]
  },
  {
   "cell_type": "markdown",
   "metadata": {},
   "source": [
    "<h3>Kruskal's Algorithm</h3>\n",
    "<ul>\n",
    "    <li>Given a weighted graph return a list of edges that make up a minimum spanning tree <b>IN THE ORDER</b> obtained via Kruskal's Algorithm.</li>\n",
    "    <li>The edges should be in the form of lists as well.</li>\n",
    "</ul>"
   ]
  },
  {
   "cell_type": "code",
   "execution_count": 242,
   "metadata": {},
   "outputs": [
    {
     "data": {
      "text/plain": [
       "[['A', 'D'], ['C', 'B'], ['A', 'B']]"
      ]
     },
     "execution_count": 242,
     "metadata": {},
     "output_type": "execute_result"
    }
   ],
   "source": [
    "def min_kruskal(graph):    \n",
    "    sorted_edges = edge_get(graph) # Get all edges in non-decreasing order\n",
    "    kruskals = sorted_edges[:len(graph)-1] # Add edges to list, stop when there is only less edge than vertex\n",
    "    return kruskals\n",
    "    \n",
    "#############\n",
    "## TESTING ##\n",
    "#############\n",
    "graph_one = {\n",
    "    \"A\" : [[\"B\",10], [\"D\",5]],\n",
    "    \"B\" : [[\"A\",10], [\"C\",5]],\n",
    "    \"C\" : [[\"B\",5], [\"D\",15]],\n",
    "    \"D\" : [[\"C\",15],[\"A\",5]]\n",
    "}\n",
    "graph_two = {\n",
    "    \"A\" : [[\"B\",5]],\n",
    "    \"B\" : [[\"A\",5], [\"C\",10]],\n",
    "    \"C\" : [[\"B\",10], [\"D\",5]],\n",
    "    \"D\" : [[\"C\",5], [\"E\",15], [\"G\",10]],\n",
    "    \"E\" : [[\"G\",5], [\"D\",15], [\"F\",20]],\n",
    "    \"F\" : [[\"E\",20], [\"G\",5]],\n",
    "    \"G\" : [[\"F\",5], [\"E\",5], [\"D\", 10]]\n",
    "}\n",
    "min_kruskal(graph_one)"
   ]
  },
  {
   "cell_type": "markdown",
   "metadata": {},
   "source": [
    "<hr>"
   ]
  },
  {
   "cell_type": "markdown",
   "metadata": {},
   "source": [
    "<h3>Primm's Algorithm</h3>\n",
    "<ul>\n",
    "    <li>Given a weighted graph return a list of edges that make up a minimum spanning tree <b>IN THE ORDER</b> obtained via Primm's Algorithm.</li>\n",
    "<li>The edges should be in the form of lists as well.</li>\n",
    "<li>\"A\" will always be the source/root.</li>"
   ]
  },
  {
   "cell_type": "code",
   "execution_count": 244,
   "metadata": {},
   "outputs": [
    {
     "data": {
      "text/plain": [
       "[['A', 'D'], ['A', 'B'], ['B', 'C']]"
      ]
     },
     "execution_count": 244,
     "metadata": {},
     "output_type": "execute_result"
    }
   ],
   "source": [
    "# Helper method\n",
    "# Finds the smallest neighboring edge\n",
    "def smallest_neighbor(graph, vertex, e):\n",
    "    smallest = [\"\", -1]\n",
    "    for node in graph[vertex]:\n",
    "        if smallest[1] == -1 or smallest[1] > node[1]:\n",
    "            if [vertex, node[0]] not in e and [node[0], vertex] not in e:\n",
    "                smallest = node\n",
    "    return smallest\n",
    "\n",
    "def min_prim(graph):\n",
    "\n",
    "    # Initializing our output variables, and our\n",
    "    # vertex set to start at 'A'\n",
    "    e = []\n",
    "    v = [\"A\"]\n",
    "\n",
    "    # Iterate through all of the vertices in the graph\n",
    "    while len(v) != len(graph):\n",
    "        smallest_edges = []\n",
    "\n",
    "        # Find smallest neighboring edge of each vertex\n",
    "        for vertex in v:\n",
    "            edge = smallest_neighbor(graph, vertex, e)\n",
    "            smallest_edges.append([vertex, edge[0], edge[1]])\n",
    "\n",
    "        # Compare smallest possible edges\n",
    "        smallest = [\"\", \"\", -1]\n",
    "        for edge in smallest_edges:\n",
    "            if smallest[2] == -1 or smallest[2] > edge[2]:\n",
    "                if [edge[0], edge[1]] not in e and [edge[1], edge[0]] not in e:\n",
    "                    smallest = edge\n",
    "\n",
    "        # Append to our edge set the next smallest\n",
    "        # available option.\n",
    "        e.append([smallest[0], smallest[1]])\n",
    "        if smallest[0] not in v:\n",
    "            v.append(smallest[0])\n",
    "        else:\n",
    "            v.append(smallest[1])\n",
    "\n",
    "    return e\n",
    "\n",
    "#############\n",
    "## TESTING ##\n",
    "############# \n",
    "graph_one = {\n",
    "    \"A\" : [[\"B\",10], [\"D\",5]],\n",
    "    \"B\" : [[\"A\",10], [\"C\",5]],\n",
    "    \"C\" : [[\"B\",5], [\"D\",15]],\n",
    "    \"D\" : [[\"C\",15],[\"A\",5]]\n",
    "}\n",
    "graph_two = {\n",
    "    \"A\" : [[\"B\",5]],\n",
    "    \"B\" : [[\"A\",5], [\"C\",10]],\n",
    "    \"C\" : [[\"B\",10], [\"D\",5]],\n",
    "    \"D\" : [[\"C\",5], [\"E\",15], [\"G\",10]],\n",
    "    \"E\" : [[\"G\",5], [\"D\",15], [\"F\",20]],\n",
    "    \"F\" : [[\"E\",20], [\"G\",5]],\n",
    "    \"G\" : [[\"F\",5], [\"E\",5], [\"D\", 10]]\n",
    "}\n",
    "min_prim(graph_one)"
   ]
  },
  {
   "cell_type": "markdown",
   "metadata": {},
   "source": [
    "<hr>"
   ]
  }
 ],
 "metadata": {
  "kernelspec": {
   "display_name": "Python 2",
   "language": "python",
   "name": "python2"
  }
 },
 "nbformat": 4,
 "nbformat_minor": 2
}
