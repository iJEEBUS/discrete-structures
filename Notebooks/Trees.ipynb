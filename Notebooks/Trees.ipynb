{
 "cells": [
  {
   "cell_type": "markdown",
   "metadata": {},
   "source": [
    "<h6>Ronald Rounsifer</h6>\n",
    "<hr>"
   ]
  },
  {
   "cell_type": "markdown",
   "metadata": {},
   "source": [
    "<center>\n",
    "<h1>Trees</h1>\n",
    "<br>\n",
    "<p>For this project you will write functions that traverse rooted trees using Depth and Breadth First Search. In addition, you will find minimum spanning trees using both Krukal's and Prim's algorithms.</p>\n",
    "<p>You are <b>NOT ALLOWED TO IMPORT</b> any external libraries on this problem.</p>\n",
    "</center>"
   ]
  },
  {
   "cell_type": "markdown",
   "metadata": {},
   "source": [
    "<hr>"
   ]
  },
  {
   "cell_type": "markdown",
   "metadata": {},
   "source": [
    "<h3>Depth First Search</h3>\n",
    "<ul>\n",
    "    <li>This will take in a rooted tree and return the list of vertices visited using DFS.</li>\n",
    "    <li>\"A\" will always be the root.</li>\n",
    "</ul>"
   ]
  },
  {
   "cell_type": "code",
   "execution_count": 6,
   "metadata": {
    "collapsed": true
   },
   "outputs": [],
   "source": [
    "def DFS(tree):\n",
    "\n",
    "    root = \"A\"\n",
    "    visited, stack = [] , [root]\n",
    "\n",
    "    while stack: # While the stack contains items do this\n",
    "        vertex = stack.pop()\n",
    "        if vertex not in visited:\n",
    "            visited.append(vertex)\n",
    "            stack.extend(tree[vertex][::-1])\n",
    "    print visited"
   ]
  },
  {
   "cell_type": "code",
   "execution_count": 7,
   "metadata": {},
   "outputs": [
    {
     "name": "stdout",
     "output_type": "stream",
     "text": [
      "['A', 'B', 'D', 'C']\n"
     ]
    }
   ],
   "source": [
    "test_tree = {\n",
    "                \"A\" : [\"B\",\"C\"], \n",
    "                \"B\" : [\"D\"], \n",
    "                \"C\" : [], \n",
    "                \"D\" : []\n",
    "            }\n",
    "\n",
    "\n",
    "DFS(test_tree)"
   ]
  },
  {
   "cell_type": "markdown",
   "metadata": {},
   "source": [
    "<hr>"
   ]
  },
  {
   "cell_type": "markdown",
   "metadata": {},
   "source": [
    "<h3>Breadth First Search</h3>\n",
    "<ul>\n",
    "    <li>This will take in a rooted tree and return the list of vertices visited using BFS.</li>\n",
    "    <li>\"A\" will always be the root.</li>\n",
    "</ul>"
   ]
  },
  {
   "cell_type": "code",
   "execution_count": 10,
   "metadata": {
    "collapsed": true
   },
   "outputs": [],
   "source": [
    "def BFS(tree):\n",
    "\n",
    "    root = \"A\"\n",
    "    visited, stack, neighbors = [] , [root], []\n",
    "\n",
    "    while stack: # While the stack exists\n",
    "        vertex = stack.pop() # Take the vertex out of the stack\n",
    "        if vertex not in visited: # Check if the vertex has been visited\n",
    "            visited.append(vertex) # Add vertex to visited list\n",
    "            neighbors.extend(tree[vertex][:])\n",
    "            if len(stack) == 0:\n",
    "                stack.extend(neighbors[::-1])\n",
    "    return visited\n",
    "        "
   ]
  },
  {
   "cell_type": "code",
   "execution_count": 11,
   "metadata": {},
   "outputs": [
    {
     "name": "stdout",
     "output_type": "stream",
     "text": [
      "['A', 'B', 'C', 'D', 'E', 'F', 'G', 'H', 'I']\n"
     ]
    }
   ],
   "source": [
    "test_one = {\n",
    "                \"A\" : [\"B\",\"C\"], \n",
    "                \"B\" : [\"D\"], \n",
    "                \"C\" : [\"E\",\"F\"], \n",
    "                \"D\" : [],\n",
    "                \"E\" : [\"G\"],\n",
    "                \"F\" : [\"H\"],\n",
    "                \"G\" : [],\n",
    "                \"H\" : [\"I\"],\n",
    "                \"I\" : []\n",
    "            }\n",
    "\n",
    "test_two = {\n",
    "                \"A\" : [\"B\",\"C\"], \n",
    "                \"B\" : [\"D\"], \n",
    "                \"C\" : [], \n",
    "                \"D\" : []\n",
    "            }\n",
    "\n",
    "test_three = {\n",
    "                \"A\" : [\"B\",\"C\", \"D\"], \n",
    "                \"B\" : [], \n",
    "                \"C\" : [], \n",
    "                \"D\" : []\n",
    "            }\n",
    "\n",
    "print BFS(test_one)"
   ]
  },
  {
   "cell_type": "markdown",
   "metadata": {},
   "source": [
    "<hr>"
   ]
  },
  {
   "cell_type": "markdown",
   "metadata": {},
   "source": [
    "<h3>Get the Edges</h3>\n",
    "<ul>\n",
    "    <li>This function takes in a weighted graph and returns the list of all the edges of the graph in non-decreasing order.</li>\n",
    "    <li>The order of endpoints does not matter.</li>\n",
    "</ul>"
   ]
  },
  {
   "cell_type": "code",
   "execution_count": 193,
   "metadata": {
    "collapsed": true
   },
   "outputs": [],
   "source": [
    "def list_perm(user_list):\n",
    "    if user_list: # if the list exists\n",
    "        user_list = list(user_list)# Make sure that the input is actually a list\n",
    "        answer , h = [],[]\n",
    "        for x in user_list: # iterate through list\n",
    "            if x not in h: # if the inputted list item is not in the new list\n",
    "                temp = user_list[:]\n",
    "                temp.remove(x) # remove item from temp list\n",
    "                for p in list_perm(temp):\n",
    "                    answer.append([x]+p) # append item to answer list\n",
    "            h.append(x)\n",
    "        return answer # return answer list\n",
    "    else:\n",
    "        return [[]]"
   ]
  },
  {
   "cell_type": "code",
   "execution_count": 208,
   "metadata": {},
   "outputs": [],
   "source": [
    "def edge_get(graph):\n",
    "    \n",
    "    edges = {}\n",
    "    temp = []\n",
    "    \n",
    "    # Create a dictionary whose key is the weight of each edge it contains\n",
    "    \n",
    "    # Iterate through the graph and create lists\n",
    "    \n",
    "    \n",
    "    \n",
    "    \n",
    "        \n",
    "        \n",
    "    return True"
   ]
  },
  {
   "cell_type": "code",
   "execution_count": 209,
   "metadata": {},
   "outputs": [
    {
     "name": "stdout",
     "output_type": "stream",
     "text": [
      "Vertex: A\n",
      "[['A', 'B']]\n",
      "Values: 10\n",
      "Vertex: A\n",
      "[['A', 'B']]\n",
      "Values: 5\n",
      "Vertex: C\n",
      "[['A', 'B']]\n",
      "Values: 5\n",
      "Vertex: C\n",
      "[['A', 'B']]\n",
      "Values: 15\n",
      "Vertex: B\n",
      "[['A', 'B'], ['B', 'A']]\n",
      "Values: 10\n",
      "Vertex: B\n",
      "[['A', 'B'], ['B', 'A']]\n",
      "Values: 5\n",
      "Vertex: D\n",
      "[['A', 'B'], ['B', 'A']]\n",
      "Values: 15\n",
      "Vertex: D\n",
      "[['A', 'B'], ['B', 'A']]\n",
      "Values: 5\n"
     ]
    },
    {
     "data": {
      "text/plain": [
       "True"
      ]
     },
     "execution_count": 209,
     "metadata": {},
     "output_type": "execute_result"
    }
   ],
   "source": [
    "graph1 = {\n",
    "    \"A\" : [[\"B\",10],[\"D\",5]], \n",
    "    \"B\" : [[\"A\",10],[\"C\",5]],\n",
    "    \"C\" : [[\"B\",5],[\"D\",15]],\n",
    "    \"D\" : [[\"C\", 15],[\"A\",5]]\n",
    "}\n",
    "edge_get(graph1)"
   ]
  },
  {
   "cell_type": "markdown",
   "metadata": {},
   "source": [
    "<hr>"
   ]
  },
  {
   "cell_type": "markdown",
   "metadata": {},
   "source": [
    "<h3>Kruskal's Algorithm</h3>\n",
    "<ul>\n",
    "    <li>Given a weighted graph return a list of edges that make up a minimum spanning tree <b>IN THE ORDER</b> obtained via Kruskal's Algorithm.</li>\n",
    "    <li>The edges should be in the form of lists as well.</li>\n",
    "</ul>"
   ]
  },
  {
   "cell_type": "code",
   "execution_count": null,
   "metadata": {
    "collapsed": true
   },
   "outputs": [],
   "source": [
    "def min_kruskal(graph):\n",
    "    return"
   ]
  },
  {
   "cell_type": "code",
   "execution_count": null,
   "metadata": {
    "collapsed": true
   },
   "outputs": [],
   "source": []
  },
  {
   "cell_type": "markdown",
   "metadata": {},
   "source": [
    "<hr>"
   ]
  },
  {
   "cell_type": "markdown",
   "metadata": {},
   "source": [
    "<h3>Primm's Algorithm</h3>\n",
    "<ul>\n",
    "    <li>Given a weighted graph return a list of edges that make up a minimum spanning tree <b>IN THE ORDER</b> obtained via Primm's Algorithm.</li>\n",
    "<li>The edges should be in the form of lists as well.</li>\n",
    "<li>\"A\" will always be the source/root.</li>"
   ]
  },
  {
   "cell_type": "code",
   "execution_count": null,
   "metadata": {
    "collapsed": true
   },
   "outputs": [],
   "source": [
    "def min_prim(graph):\n",
    "    root = \"A\"\n",
    "    primms, visited, stack = [], [root]\n",
    "    \n",
    "    while stack:\n",
    "        \n",
    "    \n",
    "    return"
   ]
  },
  {
   "cell_type": "code",
   "execution_count": null,
   "metadata": {
    "collapsed": true
   },
   "outputs": [],
   "source": []
  },
  {
   "cell_type": "markdown",
   "metadata": {},
   "source": [
    "<hr>"
   ]
  }
 ],
 "metadata": {
  "kernelspec": {
   "display_name": "Python 2",
   "language": "python",
   "name": "python2"
  },
  "language_info": {
   "codemirror_mode": {
    "name": "ipython",
    "version": 2
   },
   "file_extension": ".py",
   "mimetype": "text/x-python",
   "name": "python",
   "nbconvert_exporter": "python",
   "pygments_lexer": "ipython2",
   "version": "2.7.13"
  }
 },
 "nbformat": 4,
 "nbformat_minor": 2
}
