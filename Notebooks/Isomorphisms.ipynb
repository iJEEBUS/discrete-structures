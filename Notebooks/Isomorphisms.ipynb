{
 "cells": [
  {
   "cell_type": "markdown",
   "metadata": {},
   "source": [
    "<h6>Ronald Rounsifer<h6>\n",
    "<hr>"
   ]
  },
  {
   "cell_type": "markdown",
   "metadata": {},
   "source": [
    "<center>\n",
    "    <h1>Isomorphisms</h1>\n",
    "    <p>For this project you are to write functions that tests whether two given graphs are isomorphic. There are additional functions that will be useful to use when writing your final code.</p>\n",
    "    <p>You are <b>NOT ALLOWED TO IMPORT</b> any external libraries on this problem.</p>\n",
    "</center>"
   ]
  },
  {
   "cell_type": "markdown",
   "metadata": {},
   "source": [
    "<hr>"
   ]
  },
  {
   "cell_type": "markdown",
   "metadata": {},
   "source": [
    "<h1>List permutation</h1>\n",
    "<ul>\n",
    "    <li>Input: a list</li>\n",
    "    <li>Output: all of the permuations in the form of lists</li>\n",
    "    <br>\n",
    "    <li><em>Assume the list does not contain duplicates</em></li>\n",
    "    <li><em>Order of permutations does not matter</em></li>\n",
    "</ul>"
   ]
  },
  {
   "cell_type": "code",
   "execution_count": 13,
   "metadata": {},
   "outputs": [
    {
     "data": {
      "text/plain": [
       "[['A', 'B', 'C'],\n",
       " ['A', 'C', 'B'],\n",
       " ['B', 'A', 'C'],\n",
       " ['B', 'C', 'A'],\n",
       " ['C', 'A', 'B'],\n",
       " ['C', 'B', 'A']]"
      ]
     },
     "execution_count": 13,
     "metadata": {},
     "output_type": "execute_result"
    }
   ],
   "source": [
    "def list_perm(user_list):\n",
    "    if user_list: # if the list exists\n",
    "        user_list = list(user_list)# Make sure that the input is actually a list\n",
    "        answer , h = [],[]\n",
    "        for x in user_list: # iterate through list\n",
    "            if x not in h: # if the inputted list item is not in the new list\n",
    "                temp = user_list[:]\n",
    "                temp.remove(x) # remove item from temp list\n",
    "                for p in list_perm(temp):\n",
    "                    answer.append([x]+p) # append item to answer list\n",
    "            h.append(x)\n",
    "        return answer # return answer list\n",
    "    else:\n",
    "        return [[]]\n",
    "    \n",
    "#############\n",
    "## TESTING ##\n",
    "#############\n",
    "list_perm([\"A\",\"B\", \"C\"])"
   ]
  },
  {
   "cell_type": "markdown",
   "metadata": {},
   "source": [
    "<hr>"
   ]
  },
  {
   "cell_type": "markdown",
   "metadata": {},
   "source": [
    "<h1>Is Same</h1>\n",
    "<ul>\n",
    "    <li>Input: two lists, return whether or not they are the same</li>\n",
    "    <li>Output: True if they are the same, False if they are not</li>\n",
    "    <br>\n",
    "    <li><em>Since they are sets, the order does not matter</em></li>\n",
    "<ul>\n"
   ]
  },
  {
   "cell_type": "code",
   "execution_count": 16,
   "metadata": {},
   "outputs": [
    {
     "data": {
      "text/plain": [
       "True"
      ]
     },
     "execution_count": 16,
     "metadata": {},
     "output_type": "execute_result"
    }
   ],
   "source": [
    "def is_same(list1, list2):\n",
    "    if list1 in list_perm(list2):\n",
    "        return True\n",
    "    return False\n",
    "\n",
    "#############\n",
    "## TESTING ##\n",
    "#############\n",
    "is_same([\"A\", \"B\", \"C\"],[\"A\", \"C\", \"B\"])"
   ]
  },
  {
   "cell_type": "markdown",
   "metadata": {},
   "source": [
    "<hr>"
   ]
  },
  {
   "cell_type": "markdown",
   "metadata": {
    "collapsed": true
   },
   "source": [
    "<h1>Switch</h1>\n",
    "<ul>\n",
    "    <li>Input: a graph and two vertices</li>\n",
    "    <li>Output: the graph with the specified vertices that are switched</li>\n",
    "<ul>"
   ]
  },
  {
   "cell_type": "code",
   "execution_count": 18,
   "metadata": {},
   "outputs": [
    {
     "data": {
      "text/plain": [
       "{'A': ['C', 'D'], 'B': ['C', 'D'], 'C': ['B', 'A'], 'D': ['B', 'A']}"
      ]
     },
     "execution_count": 18,
     "metadata": {},
     "output_type": "execute_result"
    }
   ],
   "source": [
    "def switch(graph, vert1, vert2):\n",
    "    \n",
    "    temp_dict = {} # Temporary dictionary to hold data   \n",
    "    final_dict = {} # Final dictionary that will be returned\n",
    "    \n",
    "    # Loop through the keys in the inputted graph\n",
    "    for key in graph.copy():\n",
    "        \n",
    "        # Checks if either vertex is in the values \n",
    "        if vert1 in graph[key] or vert2 in graph[key]:\n",
    "            \n",
    "            loops = len(graph[key]) # How many items to iterate through\n",
    "            counter = 0 # Counter used for the while loop\n",
    "            \n",
    "            while counter < loops: # Loop through every item in the keys value\n",
    "                if graph[key][counter] == vert1: # If the value is equal to the first vertex\n",
    "                    graph[key][counter] = vert2 # Change the value to the second vertex\n",
    "                elif graph[key][counter] == vert2: # If the value is equal to the second vertex\n",
    "                    graph[key][counter] = vert1 # Change the value to the first vertex     \n",
    "                counter += 1 # Increment counter by one\n",
    "    \n",
    "    # Loop through all of the keys in the dictionary\n",
    "    for key in graph.copy():\n",
    "        \n",
    "        if key == vert1: # If the key is equal to the first vertex input\n",
    "            new_key = vert2 # Make a new key that is to replace the original key    \n",
    "            temp_dict[key] = graph[key] # Put the entire key and value into the temporary dictionary       \n",
    "            final_dict[new_key] = temp_dict.pop(key) # Take the values from the temporary dictionary and place them under the new key\n",
    "        \n",
    "        elif key == vert2: # Uses the same logic as above\n",
    "            new_key = vert1\n",
    "            temp_dict[key] = graph[key]        \n",
    "            final_dict[new_key] = temp_dict.pop(key)\n",
    "        else:\n",
    "            final_dict[key] = graph[key] # Transfer the remainder of the orginal graph to the new dictionary\n",
    "        \n",
    "    return final_dict\n",
    "        \n",
    "    \n",
    "#############\n",
    "## TESTING ##\n",
    "#############\n",
    "dictionary = {\"A\" : [\"B\", \"C\"], \"B\" : [\"A\", \"D\"], \"C\" : [\"A\", \"D\"], \"D\" : [\"B\", \"C\"] }\n",
    "A = \"A\"\n",
    "C = \"C\"\n",
    "\n",
    "switch(dictionary, A, C)"
   ]
  },
  {
   "cell_type": "markdown",
   "metadata": {},
   "source": [
    "<hr>"
   ]
  },
  {
   "cell_type": "markdown",
   "metadata": {},
   "source": [
    "<h1>Is Isomorphic</h1> \n",
    "<ul>\n",
    "    <li>Input: two graphs</li>\n",
    "    <li>Output: True if the graphs are isomorphic, False if not</li>\n",
    "</ul>"
   ]
  },
  {
   "cell_type": "code",
   "execution_count": 19,
   "metadata": {},
   "outputs": [
    {
     "data": {
      "text/plain": [
       "True"
      ]
     },
     "execution_count": 19,
     "metadata": {},
     "output_type": "execute_result"
    }
   ],
   "source": [
    "def is_iso(graph1, graph2):\n",
    "    \n",
    "    # Compare number of vertices\n",
    "    if len(graph1)!= len(graph2): \n",
    "        return False\n",
    "    \n",
    "    # Check the degree sequences and if one is not\n",
    "    # in the other then return false\n",
    "    g1_degree_sequence = []\n",
    "    g2_degree_sequence = []\n",
    "    \n",
    "    for key in graph1:\n",
    "        g1_degree_sequence.append(len(graph1[key]))\n",
    "    for key in graph2:\n",
    "        g2_degree_sequence.append(len(graph2[key]))\n",
    "\n",
    "        \n",
    "    temp = [] # Temp list to hold permutations\n",
    "    \n",
    "    # Iterate through all the permutations\n",
    "    for permutation in list_perm(g1_degree_sequence): \n",
    "        temp.append(permutation) # Add them to a temp array\n",
    "    g1_degree_sequence[:] = [] \n",
    "    g1_degree_sequence = temp[:] # Assign entire temp list to initial list\n",
    "    temp[:] = [] \n",
    "    \n",
    "    # Iterate through all the permutations\n",
    "    for permutation in list_perm(g2_degree_sequence): \n",
    "        temp.append(permutation) # Add them to a temp array\n",
    "    g2_degree_sequence[:] = [] \n",
    "    g2_degree_sequence = temp[:] # Assign entire temp list to initial list\n",
    "    temp[:] = [] \n",
    "    \n",
    "    # Iterate through all permuted degree sequences\n",
    "    for d_sequence in g1_degree_sequence: \n",
    "        if d_sequence in g2_degree_sequence:\n",
    "            return True\n",
    "        \n",
    "    return False\n",
    "\n",
    "\n",
    "#############\n",
    "## TESTING ##\n",
    "#############\n",
    "graph1 = {\"A\" : [\"B\", \"C\"], \"B\" : [\"A\"], \"C\" : [\"A\"]}\n",
    "graph2 = {\"A\" : [\"B\"], \"B\" : [\"A\", \"C\"], \"C\" : [\"B\"]}\n",
    "graph3 = {\"A\" : [\"B\", \"C\"], \"B\" : [\"A\", \"C\"], \"C\" : [\"A\", \"B\"]}\n",
    "graph4 = {\"A\" : [\"B\", \"C\"], \"B\" : [\"A\"], \"C\" : [\"A\"]}\n",
    "\n",
    "is_iso(graph1, graph2)"
   ]
  },
  {
   "cell_type": "markdown",
   "metadata": {},
   "source": [
    "<hr>"
   ]
  }
 ],
 "metadata": {
  "kernelspec": {
   "display_name": "Python 2",
   "language": "python",
   "name": "python2"
  },
  "language_info": {
   "codemirror_mode": {
    "name": "ipython",
    "version": 2
   },
   "file_extension": ".py",
   "mimetype": "text/x-python",
   "name": "python",
   "nbconvert_exporter": "python",
   "pygments_lexer": "ipython2",
   "version": "2.7.13"
  }
 },
 "nbformat": 4,
 "nbformat_minor": 2
}
