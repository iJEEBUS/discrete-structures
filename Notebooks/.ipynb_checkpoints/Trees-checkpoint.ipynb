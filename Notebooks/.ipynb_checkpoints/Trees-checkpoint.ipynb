{
 "cells": [
  {
   "cell_type": "markdown",
   "metadata": {},
   "source": [
    "<h6>Ronald Rounsifer</h6>\n",
    "<hr>"
   ]
  },
  {
   "cell_type": "markdown",
   "metadata": {},
   "source": [
    "<center>\n",
    "<h1>Trees</h1>\n",
    "<br>\n",
    "<p>For this project you will write functions that traverse rooted trees using Depth and Breadth First Search. In addition, you will find minimum spanning trees using both Krukal's and Prim's algorithms.</p>\n",
    "<p>You are <b>NOT ALLOWED TO IMPORT</b> any external libraries on this problem.</p>\n",
    "</center>"
   ]
  },
  {
   "cell_type": "markdown",
   "metadata": {},
   "source": [
    "<hr>"
   ]
  },
  {
   "cell_type": "markdown",
   "metadata": {},
   "source": [
    "<h3>Depth First Search</h3>\n",
    "<ul>\n",
    "    <li>This will take in a rooted tree and return the list of vertices visited using DFS.</li>\n",
    "    <li>\"A\" will always be the root.</li>\n",
    "</ul>"
   ]
  },
  {
   "cell_type": "code",
   "execution_count": 3,
   "metadata": {
    "collapsed": true
   },
   "outputs": [],
   "source": [
    "def DFS(tree):\n",
    "\n",
    "    root = \"A\"\n",
    "    visited, stack = [] , [root]\n",
    "\n",
    "    while stack: # While the stack contains items do this\n",
    "        vertex = stack.pop()\n",
    "        if vertex not in visited:\n",
    "            visited.append(vertex)\n",
    "            stack.extend(tree[vertex][::-1])\n",
    "    print visited"
   ]
  },
  {
   "cell_type": "code",
   "execution_count": 4,
   "metadata": {},
   "outputs": [
    {
     "name": "stdout",
     "output_type": "stream",
     "text": [
      "['A', 'B', 'D', 'C']\n"
     ]
    }
   ],
   "source": [
    "test_tree = {\n",
    "                \"A\" : [\"B\",\"C\"], \n",
    "                \"B\" : [\"D\"], \n",
    "                \"C\" : [], \n",
    "                \"D\" : []\n",
    "            }\n",
    "\n",
    "\n",
    "DFS(test_tree)"
   ]
  },
  {
   "cell_type": "markdown",
   "metadata": {},
   "source": [
    "<hr>"
   ]
  },
  {
   "cell_type": "markdown",
   "metadata": {},
   "source": [
    "<h3>Breadth First Search</h3>\n",
    "<ul>\n",
    "    <li>This will take in a rooted tree and return the list of vertices visited using BFS.</li>\n",
    "    <li>\"A\" will always be the root.</li>\n",
    "</ul>"
   ]
  },
  {
   "cell_type": "code",
   "execution_count": 5,
   "metadata": {
    "collapsed": true
   },
   "outputs": [],
   "source": [
    "def BFS(tree):\n",
    "\n",
    "    root = \"A\"\n",
    "    visited, stack, neighbors = [] , [root], []\n",
    "\n",
    "    while stack: # While the stack exists\n",
    "        vertex = stack.pop() # Take the vertex out of the stack\n",
    "        if vertex not in visited: # Check if the vertex has been visited\n",
    "            visited.append(vertex) # Add vertex to visited list\n",
    "            neighbors.extend(tree[vertex][:])\n",
    "            if len(stack) == 0:\n",
    "                stack.extend(neighbors[::-1])\n",
    "    return visited\n",
    "        "
   ]
  },
  {
   "cell_type": "code",
   "execution_count": 6,
   "metadata": {},
   "outputs": [
    {
     "name": "stdout",
     "output_type": "stream",
     "text": [
      "['A', 'B', 'C', 'D', 'E', 'F', 'G', 'H', 'I']\n"
     ]
    }
   ],
   "source": [
    "test_one = {\n",
    "                \"A\" : [\"B\",\"C\"], \n",
    "                \"B\" : [\"D\"], \n",
    "                \"C\" : [\"E\",\"F\"], \n",
    "                \"D\" : [],\n",
    "                \"E\" : [\"G\"],\n",
    "                \"F\" : [\"H\"],\n",
    "                \"G\" : [],\n",
    "                \"H\" : [\"I\"],\n",
    "                \"I\" : []\n",
    "            }\n",
    "\n",
    "test_two = {\n",
    "                \"A\" : [\"B\",\"C\"], \n",
    "                \"B\" : [\"D\"], \n",
    "                \"C\" : [], \n",
    "                \"D\" : []\n",
    "            }\n",
    "\n",
    "test_three = {\n",
    "                \"A\" : [\"B\",\"C\", \"D\"], \n",
    "                \"B\" : [], \n",
    "                \"C\" : [], \n",
    "                \"D\" : []\n",
    "            }\n",
    "\n",
    "print BFS(test_one)"
   ]
  },
  {
   "cell_type": "markdown",
   "metadata": {},
   "source": [
    "<hr>"
   ]
  },
  {
   "cell_type": "markdown",
   "metadata": {},
   "source": [
    "<h3>Get the Edges</h3>\n",
    "<ul>\n",
    "    <li>This function takes in a weighted graph and returns the list of all the edges of the graph in non-decreasing order.</li>\n",
    "    <li>The order of endpoints does not matter.</li>\n",
    "</ul>"
   ]
  },
  {
   "cell_type": "code",
   "execution_count": 9,
   "metadata": {
    "collapsed": true
   },
   "outputs": [],
   "source": [
    "def list_perm(user_list):\n",
    "    if user_list: # if the list exists\n",
    "        user_list = list(user_list)# Make sure that the input is actually a list\n",
    "        answer , h = [],[]\n",
    "        for x in user_list: # iterate through list\n",
    "            if x not in h: # if the inputted list item is not in the new list\n",
    "                temp = user_list[:]\n",
    "                temp.remove(x) # remove item from temp list\n",
    "                for p in list_perm(temp):\n",
    "                    answer.append([x]+p) # append item to answer list\n",
    "            h.append(x)\n",
    "        return answer # return answer list\n",
    "    else:\n",
    "        return [[]]"
   ]
  },
  {
   "cell_type": "code",
   "execution_count": null,
   "metadata": {},
   "outputs": [],
   "source": [
    "def edge_get(graph):\n",
    "    \n",
    "    weights = [] # all of the weights in the graph\n",
    "    smallest_weight = 0 # smallest weight \n",
    "    \n",
    "    edges = [] # Holds edges that have minimum edge weight\n",
    "    final_edges = [] # final ordered output\n",
    "    \n",
    "    # Iterate through the graph and create a list of the weights\n",
    "    for vertex in graph:\n",
    "        for weight in graph[vertex]:\n",
    "            if weight[1] not in weights:\n",
    "                weights.append(weight[1])\n",
    "    \n",
    "    # Sort the weights\n",
    "    weights = sorted(weights)\n",
    "    \n",
    "    # Execute until all weights are accounted for\n",
    "    while weights:\n",
    "        edges = []\n",
    "        for vertex in graph:\n",
    "            smallest_weight = weights[0]\n",
    "            \n",
    "            # Checks the weight to make sure it is the current  \n",
    "            # minimum and checks that any permutation of that \n",
    "            # edge is in the list already.\n",
    "            for weight in graph[vertex]:\n",
    "                if weight[1] == smallest_weight:\n",
    "                    if [vertex, weight[0]] not in edges:\n",
    "                        if [weight[0], vertex] not in edges:\n",
    "                            edges.append([vertex, weight[0]])\n",
    "                            \n",
    "        # Remove the first weight from the list after use\n",
    "        weights = weights[1:]\n",
    "        \n",
    "        # Add edges to final output list\n",
    "        for edge in edges:\n",
    "            final_edges.append(edge)\n",
    "                        \n",
    "    return final_edges\n",
    "\n",
    "## Testing ##  \n",
    "graph1 = {\n",
    "    \"A\" : [[\"B\",10], [\"D\",5]], \n",
    "    \"B\" : [[\"A\",10], [\"C\",5]],\n",
    "    \"C\" : [[\"B\",5], [\"D\",15]],\n",
    "    \"D\" : [[\"C\", 15], [\"A\",5]]\n",
    "}\n",
    "edge_get(graph1)"
   ]
  },
  {
   "cell_type": "markdown",
   "metadata": {},
   "source": [
    "<hr>"
   ]
  },
  {
   "cell_type": "markdown",
   "metadata": {},
   "source": [
    "<h3>Kruskal's Algorithm</h3>\n",
    "<ul>\n",
    "    <li>Given a weighted graph return a list of edges that make up a minimum spanning tree <b>IN THE ORDER</b> obtained via Kruskal's Algorithm.</li>\n",
    "    <li>The edges should be in the form of lists as well.</li>\n",
    "</ul>"
   ]
  },
  {
   "cell_type": "code",
   "execution_count": null,
   "metadata": {},
   "outputs": [],
   "source": [
    "def min_kruskal(graph):\n",
    "    all_edges = edge_get(graph)\n",
    "    minimum_spanning_tree = []\n",
    "    degrees = {}\n",
    "    vertex_one = 0\n",
    "    vertex_two = 0\n",
    "    \n",
    "    for edge in all_edges:\n",
    "        print edge\n",
    "        vertex_one = edge[0]\n",
    "        vertex_two = edge[1]\n",
    "        for vertex in edge:\n",
    "            if degrees[vertex] < 2:\n",
    "                degrees[vertex] += 1\n",
    "                continue\n",
    "            break\n",
    "        if degrees[vertex_one] <= 2 and degrees[vertex_one] <= 2:\n",
    "            minimum_spanning_tree.append(edge)\n",
    "    print minimum_spanning_tree\n",
    "    \n",
    "    \n",
    "\n",
    "    \n",
    "## Testing ##    \n",
    "graph_one = {\n",
    "    \"A\" : [[\"B\",10], [\"D\",5]],\n",
    "    \"B\" : [[\"A\",10], [\"C\",5]],\n",
    "    \"C\" : [[\"B\",5], [\"D\",15]],\n",
    "    \"D\" : [[\"C\",15],[\"A\",5]]\n",
    "}\n",
    "graph_two = {\n",
    "    \"A\" : [[\"B\",5]],\n",
    "    \"B\" : [[\"A\",5], [\"C\",10]],\n",
    "    \"C\" : [[\"B\",10], [\"D\",5]],\n",
    "    \"D\" : [[\"C\",5], [\"E\",15], [\"G\",10]],\n",
    "    \"E\" : [[\"G\",5], [\"D\",15], [\"F\",20]],\n",
    "    \"F\" : [[\"E\",20], [\"G\",5]],\n",
    "    \"G\" : [[\"F\",5], [\"E\",5], [\"D\", 10]]\n",
    "}\n",
    "min_kruskal(graph_two)"
   ]
  },
  {
   "cell_type": "code",
   "execution_count": 223,
   "metadata": {},
   "outputs": [
    {
     "ename": "NameError",
     "evalue": "name 'connected' is not defined",
     "output_type": "error",
     "traceback": [
      "\u001b[0;31m---------------------------------------------------------------------------\u001b[0m",
      "\u001b[0;31mNameError\u001b[0m                                 Traceback (most recent call last)",
      "\u001b[0;32m<ipython-input-223-74746603ee34>\u001b[0m in \u001b[0;36m<module>\u001b[0;34m()\u001b[0m\n\u001b[0;32m----> 1\u001b[0;31m \u001b[0;32mwhile\u001b[0m \u001b[0;32mnot\u001b[0m \u001b[0mconnected\u001b[0m\u001b[0;34m:\u001b[0m\u001b[0;34m\u001b[0m\u001b[0m\n\u001b[0m\u001b[1;32m      2\u001b[0m     \u001b[0medge\u001b[0m \u001b[0;34m=\u001b[0m \u001b[0mall_edges\u001b[0m\u001b[0;34m.\u001b[0m\u001b[0mpop\u001b[0m\u001b[0;34m(\u001b[0m\u001b[0;34m)\u001b[0m\u001b[0;34m\u001b[0m\u001b[0m\n\u001b[1;32m      3\u001b[0m     \u001b[0mvertex_one\u001b[0m \u001b[0;34m=\u001b[0m \u001b[0medge\u001b[0m\u001b[0;34m[\u001b[0m\u001b[0;36m0\u001b[0m\u001b[0;34m]\u001b[0m\u001b[0;34m\u001b[0m\u001b[0m\n\u001b[1;32m      4\u001b[0m     \u001b[0mvertex_two\u001b[0m \u001b[0;34m=\u001b[0m \u001b[0medge\u001b[0m\u001b[0;34m[\u001b[0m\u001b[0;36m1\u001b[0m\u001b[0;34m]\u001b[0m\u001b[0;34m\u001b[0m\u001b[0m\n\u001b[1;32m      5\u001b[0m     \u001b[0;32mif\u001b[0m \u001b[0mfind\u001b[0m\u001b[0;34m(\u001b[0m\u001b[0mvertex_one\u001b[0m\u001b[0;34m)\u001b[0m \u001b[0;34m!=\u001b[0m \u001b[0mfind\u001b[0m\u001b[0;34m(\u001b[0m\u001b[0mvertex_two\u001b[0m\u001b[0;34m)\u001b[0m\u001b[0;34m:\u001b[0m\u001b[0;34m\u001b[0m\u001b[0m\n",
      "\u001b[0;31mNameError\u001b[0m: name 'connected' is not defined"
     ]
    }
   ],
   "source": [
    "    while not connected:\n",
    "        edge = all_edges.pop()\n",
    "        vertex_one = edge[0]\n",
    "        vertex_two = edge[1]\n",
    "        if find(vertex_one) != find(vertex_two):\n",
    "            minimum_spanning_tree.add(edge)\n",
    "    print degrees"
   ]
  },
  {
   "cell_type": "markdown",
   "metadata": {},
   "source": [
    "<hr>"
   ]
  },
  {
   "cell_type": "markdown",
   "metadata": {},
   "source": [
    "<h3>Primm's Algorithm</h3>\n",
    "<ul>\n",
    "    <li>Given a weighted graph return a list of edges that make up a minimum spanning tree <b>IN THE ORDER</b> obtained via Primm's Algorithm.</li>\n",
    "<li>The edges should be in the form of lists as well.</li>\n",
    "<li>\"A\" will always be the source/root.</li>"
   ]
  },
  {
   "cell_type": "code",
   "execution_count": null,
   "metadata": {
    "collapsed": true
   },
   "outputs": [],
   "source": [
    "def min_prim(graph):\n",
    "    root = \"A\"\n",
    "    primms, visited, stack = [], [root]\n",
    "    \n",
    "    while stack:\n",
    "        \n",
    "    \n",
    "    return"
   ]
  },
  {
   "cell_type": "code",
   "execution_count": null,
   "metadata": {
    "collapsed": true
   },
   "outputs": [],
   "source": []
  },
  {
   "cell_type": "markdown",
   "metadata": {},
   "source": [
    "<hr>"
   ]
  }
 ],
 "metadata": {
  "kernelspec": {
   "display_name": "Python 2",
   "language": "python",
   "name": "python2"
  },
  "language_info": {
   "codemirror_mode": {
    "name": "ipython",
    "version": 2
   },
   "file_extension": ".py",
   "mimetype": "text/x-python",
   "name": "python",
   "nbconvert_exporter": "python",
   "pygments_lexer": "ipython2",
   "version": "2.7.13"
  }
 },
 "nbformat": 4,
 "nbformat_minor": 2
}
