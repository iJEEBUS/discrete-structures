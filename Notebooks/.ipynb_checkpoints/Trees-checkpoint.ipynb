{
 "cells": [
  {
   "cell_type": "markdown",
   "metadata": {},
   "source": [
    "<h6>Ronald Rounsifer</h6>\n",
    "<hr>"
   ]
  },
  {
   "cell_type": "markdown",
   "metadata": {},
   "source": [
    "<center>\n",
    "<h1>Trees</h1>\n",
    "<br>\n",
    "<p>For this project you will write functions that traverse rooted trees using Depth and Breadth First Search. In addition, you will find minimum spanning trees using both Krukal's and Prim's algorithms.</p>\n",
    "<p>You are <b>NOT ALLOWED TO IMPORT</b> any external libraries on this problem.</p>\n",
    "</center>"
   ]
  },
  {
   "cell_type": "markdown",
   "metadata": {},
   "source": [
    "<hr>"
   ]
  },
  {
   "cell_type": "markdown",
   "metadata": {},
   "source": [
    "<h3>Depth First Search</h3>\n",
    "<ul>\n",
    "    <li>This will take in a rooted tree and return the list of vertices visited using DFS.</li>\n",
    "    <li>\"A\" will always be the root.</li>\n",
    "</ul>"
   ]
  },
  {
   "cell_type": "code",
   "execution_count": 6,
   "metadata": {
    "collapsed": true
   },
   "outputs": [],
   "source": [
    "def DFS(tree):\n",
    "    return "
   ]
  },
  {
   "cell_type": "markdown",
   "metadata": {},
   "source": [
    "<hr>"
   ]
  },
  {
   "cell_type": "markdown",
   "metadata": {},
   "source": [
    "<h3>Breadth First Search</h3>\n",
    "<ul>\n",
    "    <li>This will take in a rooted tree and return the list of vertices visited using BFS.</li>\n",
    "    <li>\"A\" will always be the root.</li>\n",
    "</ul>"
   ]
  },
  {
   "cell_type": "code",
   "execution_count": 3,
   "metadata": {
    "collapsed": true
   },
   "outputs": [],
   "source": [
    "def BFS(tree):\n",
    "    return"
   ]
  },
  {
   "cell_type": "markdown",
   "metadata": {},
   "source": [
    "<hr>"
   ]
  },
  {
   "cell_type": "markdown",
   "metadata": {},
   "source": [
    "<h3>Get the Edges</h3>\n",
    "<ul>\n",
    "    <li>This function takes in a weighted graph and returns the list of all the edges of the graph in non-decreasing order.</li>\n",
    "    <li>The order of endpoints does not matter.</li>\n",
    "</ul>"
   ]
  },
  {
   "cell_type": "code",
   "execution_count": 4,
   "metadata": {
    "collapsed": true
   },
   "outputs": [],
   "source": [
    "def edge_get(graph):\n",
    "    return"
   ]
  },
  {
   "cell_type": "markdown",
   "metadata": {},
   "source": [
    "<hr>"
   ]
  },
  {
   "cell_type": "markdown",
   "metadata": {},
   "source": [
    "<h3>Kruskal's Algorithm</h3>\n",
    "<ul>\n",
    "    <li>Given a weighted graph return a list of edges that make up a minimum spanning tree <b>IN THE ORDER</b> obtained via Kruskal's Algorithm.</li>\n",
    "    <li>The edges should be in the form of lists as well.</li>\n",
    "</ul>"
   ]
  },
  {
   "cell_type": "code",
   "execution_count": 5,
   "metadata": {
    "collapsed": true
   },
   "outputs": [],
   "source": [
    "def min_kruskal(graph):\n",
    "    return"
   ]
  },
  {
   "cell_type": "markdown",
   "metadata": {},
   "source": [
    "<hr>"
   ]
  },
  {
   "cell_type": "markdown",
   "metadata": {},
   "source": [
    "<h3>Primm's Algorithm</h3>\n",
    "<ul>\n",
    "    <li>Given a weighted graph return a list of edges that make up a minimum spanning tree <b>IN THE ORDER</b> obtained via Primm's Algorithm.</li>\n",
    "<li>The edges should be in the form of lists as well.</li>\n",
    "<li>\"A\" will always be the source/root.</li>"
   ]
  },
  {
   "cell_type": "code",
   "execution_count": 7,
   "metadata": {
    "collapsed": true
   },
   "outputs": [],
   "source": [
    "def min_prim(graph):\n",
    "    return"
   ]
  },
  {
   "cell_type": "markdown",
   "metadata": {},
   "source": [
    "<hr>"
   ]
  }
 ],
 "metadata": {
  "kernelspec": {
   "display_name": "Python 2",
   "language": "python",
   "name": "python2"
  },
  "language_info": {
   "codemirror_mode": {
    "name": "ipython",
    "version": 2
   },
   "file_extension": ".py",
   "mimetype": "text/x-python",
   "name": "python",
   "nbconvert_exporter": "python",
   "pygments_lexer": "ipython2",
   "version": "2.7.13"
  }
 },
 "nbformat": 4,
 "nbformat_minor": 2
}
