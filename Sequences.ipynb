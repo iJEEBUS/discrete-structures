{
 "cells": [
  {
   "cell_type": "markdown",
   "metadata": {},
   "source": [
    "<center><h1><em>Sequences</em></h1></center>"
   ]
  },
  {
   "cell_type": "markdown",
   "metadata": {},
   "source": [
    "<center><h3>Ronald Rounsifer</h3></center>"
   ]
  },
  {
   "cell_type": "markdown",
   "metadata": {},
   "source": [
    "<center><h2><em>Arithmetic Sequences</em></h2>\n",
    "<h4>arith(start, number, index)</h4>\n",
    "<p>This function will return a list whose first term is entered by the user (start) that will be progressively incremented by the number that is entered by the user (number) up until a desired index is met (index).</p></center>"
   ]
  },
  {
   "cell_type": "code",
   "execution_count": 13,
   "metadata": {
    "collapsed": true
   },
   "outputs": [],
   "source": [
    "def arith(start, number, index):\n",
    "    arith_list = [start]\n",
    "    \n",
    "    while index > 0:\n",
    "        arith_list.append((start+number))\n",
    "        start = start + number\n",
    "        index = index - 1\n",
    "    return arith_list"
   ]
  },
  {
   "cell_type": "code",
   "execution_count": 14,
   "metadata": {},
   "outputs": [
    {
     "data": {
      "text/plain": [
       "[4, 8, 12, 16, 20]"
      ]
     },
     "execution_count": 14,
     "metadata": {},
     "output_type": "execute_result"
    }
   ],
   "source": [
    "arith(4,4,4)"
   ]
  },
  {
   "cell_type": "markdown",
   "metadata": {
    "collapsed": true
   },
   "source": [
    "<center><h2><em>Geometric Sequences</em></h2>\n",
    "<h4>geo(start, number, index)</h4>\n",
    "<p>This function will return a list whose first term is entered by the user (start) that will be multiplied by a specified number up until a desired index is met (index).</p></center>"
   ]
  },
  {
   "cell_type": "code",
   "execution_count": 15,
   "metadata": {
    "collapsed": true
   },
   "outputs": [],
   "source": [
    "def geo(start, number, index):\n",
    "    geo_list = [start]\n",
    "    \n",
    "    while index > 0:\n",
    "        geo_list.append(start * number)\n",
    "        start = start * number\n",
    "        index = index -1\n",
    "    return geo_list"
   ]
  },
  {
   "cell_type": "code",
   "execution_count": 16,
   "metadata": {},
   "outputs": [
    {
     "data": {
      "text/plain": [
       "[4, 16, 64, 256, 1024]"
      ]
     },
     "execution_count": 16,
     "metadata": {},
     "output_type": "execute_result"
    }
   ],
   "source": [
    "geo(4,4,4)"
   ]
  },
  {
   "cell_type": "markdown",
   "metadata": {},
   "source": [
    "<center><h2><em>Recursion</em></h2>\n",
    "<h4>recur(co1, co2, start1, start2)</h4>\n",
    "<p>This function will return a list OF TEN TERMS whose first term is start1, whose second term is start2, and then whose subsequent term is obtained by the following:</p>\n",
    "<p>an = (co1)an−1 + (co2)an−2.</p></center>"
   ]
  },
  {
   "cell_type": "code",
   "execution_count": 17,
   "metadata": {
    "collapsed": true
   },
   "outputs": [],
   "source": [
    "def recur(co1, co2, start1, start2):\n",
    "    recur_list = [start1, start2]\n",
    "    an = 0\n",
    "    counter = 0\n",
    "    \n",
    "    # an = (co1)an−1 + (co2)an−2\n",
    "    while counter < 8:\n",
    "        an = co1*start1 + co2*start2\n",
    "        recur_list.append(an)\n",
    "        start1 = co2*start2\n",
    "        start2 = an\n",
    "        counter += 1\n",
    "    return recur_list"
   ]
  },
  {
   "cell_type": "code",
   "execution_count": 18,
   "metadata": {},
   "outputs": [
    {
     "data": {
      "text/plain": [
       "[0, 1, 1, 2, 3, 5, 8, 13, 21, 34]"
      ]
     },
     "execution_count": 18,
     "metadata": {},
     "output_type": "execute_result"
    }
   ],
   "source": [
    "recur(1,1,0,1)"
   ]
  },
  {
   "cell_type": "markdown",
   "metadata": {},
   "source": [
    "<center><h2><em>Delta-One Function</em></h2>\n",
    "<h4>delta_one(list)</h4>\n",
    "<p>This function will return a boolean value of True or False. If True, that means this list of numbers has a delta-one constant. If False, this list does not have a delta-one constant</p></center>"
   ]
  },
  {
   "cell_type": "code",
   "execution_count": 19,
   "metadata": {
    "collapsed": true
   },
   "outputs": [],
   "source": [
    "def delta_one(user_list):\n",
    "    delta_list = []\n",
    "    delta = 0\n",
    "    counter = 0\n",
    "    answer = False\n",
    "    \n",
    "    for nums in range(0,len(user_list)-1):\n",
    "        delta = user_list[nums + 1] - user_list[nums]\n",
    "        delta_list.append(delta)\n",
    "        \n",
    "    while counter < len(delta_list) - 1:\n",
    "        if delta_list[counter] == delta_list[counter + 1]:\n",
    "            answer = True\n",
    "        else:\n",
    "            answer = False\n",
    "            break\n",
    "        counter += 1\n",
    "    return answer"
   ]
  },
  {
   "cell_type": "code",
   "execution_count": 20,
   "metadata": {},
   "outputs": [
    {
     "data": {
      "text/plain": [
       "True"
      ]
     },
     "execution_count": 20,
     "metadata": {},
     "output_type": "execute_result"
    }
   ],
   "source": [
    "delta_one([-6, -3, 0, 3, 6, 9])"
   ]
  },
  {
   "cell_type": "markdown",
   "metadata": {},
   "source": [
    "<center><h2><em>Delta-Two Function</em></h2>\n",
    "<h4>delta_two(list)</h4>\n",
    "<p>This function will return a boolean value of True or False. If True, that means this list of numbers has a delta-two constant. If False, this list does not have a delta-two constant</p><center>"
   ]
  },
  {
   "cell_type": "code",
   "execution_count": 21,
   "metadata": {
    "collapsed": true
   },
   "outputs": [],
   "source": [
    "def delta_two(user_list):\n",
    "    delta_list = []\n",
    "    delta_2_list = []\n",
    "    delta = 0\n",
    "    counter = 0\n",
    "    answer = False\n",
    "    \n",
    "    for x in range(0, len(user_list)-1):\n",
    "        delta = user_list[x + 1] - user_list[x]\n",
    "        delta_list.append(delta)\n",
    "    \n",
    "    for y in range(0, len(delta_list)-1):\n",
    "        delta = delta_list[y + 1] - delta_list[y]\n",
    "        delta_2_list.append(delta)\n",
    "    \n",
    "    while counter < len(delta_2_list)-1:\n",
    "        if delta_2_list[counter] == delta_2_list[counter + 1]:\n",
    "            answer = True\n",
    "        else:\n",
    "            answer = False\n",
    "            break\n",
    "        counter += 1\n",
    "        \n",
    "    return answer"
   ]
  },
  {
   "cell_type": "code",
   "execution_count": 22,
   "metadata": {},
   "outputs": [
    {
     "data": {
      "text/plain": [
       "False"
      ]
     },
     "execution_count": 22,
     "metadata": {},
     "output_type": "execute_result"
    }
   ],
   "source": [
    "delta_two([0, 4, 18, 48, 100, 180])"
   ]
  },
  {
   "cell_type": "markdown",
   "metadata": {
    "collapsed": true
   },
   "source": [
    "<center><h2><em>Delta-Three Function</em></h2>\n",
    "<h4>delta_three(list)</h4>\n",
    "<p>This function will return a boolean value of True or False. If True, that means this list of numbers has a delta-three constant. If False, this list does not have a delta-three constant</p></center>"
   ]
  },
  {
   "cell_type": "code",
   "execution_count": 23,
   "metadata": {
    "collapsed": true
   },
   "outputs": [],
   "source": [
    "def delta_three(user_list):\n",
    "    delta_list = []\n",
    "    delta_2_list = []\n",
    "    delta_3_list = []\n",
    "    delta = 0\n",
    "    counter = 0\n",
    "    answer = False\n",
    "    \n",
    "    for x in range(0, len(user_list)-1):\n",
    "        delta = user_list[x + 1] - user_list[x]\n",
    "        delta_list.append(delta)\n",
    "    \n",
    "    for y in range(0, len(delta_list)-1):\n",
    "        delta = delta_list[y + 1] - delta_list[y]\n",
    "        delta_2_list.append(delta)\n",
    "        \n",
    "    for z in range(0, len(delta_2_list)-1):\n",
    "        delta = delta_2_list[z + 1] - delta_2_list[z]\n",
    "        delta_3_list.append(delta)\n",
    "    \n",
    "    while counter < len(delta_3_list)-1:\n",
    "        if delta_3_list[counter] == delta_3_list[counter + 1]:\n",
    "            answer = True\n",
    "        else:\n",
    "            answer = False\n",
    "            break\n",
    "        counter += 1\n",
    "    \n",
    "    return answer\n",
    "    "
   ]
  },
  {
   "cell_type": "code",
   "execution_count": 24,
   "metadata": {},
   "outputs": [
    {
     "data": {
      "text/plain": [
       "True"
      ]
     },
     "execution_count": 24,
     "metadata": {},
     "output_type": "execute_result"
    }
   ],
   "source": [
    "delta_three([0, 4, 18, 48, 100, 180])"
   ]
  }
 ],
 "metadata": {
  "kernelspec": {
   "display_name": "Python 3",
   "language": "python",
   "name": "python3"
  },
  "language_info": {
   "codemirror_mode": {
    "name": "ipython",
    "version": 3
   },
   "file_extension": ".py",
   "mimetype": "text/x-python",
   "name": "python",
   "nbconvert_exporter": "python",
   "pygments_lexer": "ipython3",
   "version": "3.6.1"
  }
 },
 "nbformat": 4,
 "nbformat_minor": 1
}
